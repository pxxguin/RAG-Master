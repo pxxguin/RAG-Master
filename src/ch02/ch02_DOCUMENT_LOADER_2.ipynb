{
 "cells": [
  {
   "cell_type": "code",
   "execution_count": 1,
   "id": "7ea61a6d-565c-43e8-9d6b-c1520c6c7c3f",
   "metadata": {},
   "outputs": [],
   "source": [
    "from langchain_community.document_loaders import PyPDFLoader, PyMuPDFLoader, PDFPlumberLoader"
   ]
  },
  {
   "cell_type": "code",
   "execution_count": 8,
   "id": "cf552c2d-18e0-4796-aa85-a97e7e05934e",
   "metadata": {},
   "outputs": [
    {
     "name": "stdout",
     "output_type": "stream",
     "text": [
      "청크의 수 :  83\n",
      "CPU times: user 4.3 s, sys: 14.6 ms, total: 4.31 s\n",
      "Wall time: 4.33 s\n"
     ]
    }
   ],
   "source": [
    "%%time\n",
    "loader = PyPDFLoader('../../assets/pdf/2024_KB_부동산_보고서_최종.pdf')\n",
    "pages = loader.load_and_split()\n",
    "print('청크의 수 : ', len(pages))"
   ]
  },
  {
   "cell_type": "code",
   "execution_count": 10,
   "id": "401592b3-b2dd-459e-9779-be0976ccce41",
   "metadata": {},
   "outputs": [
    {
     "data": {
      "text/plain": [
       "'5 \\n2024 KB 부동산 보고서: 2024년 주택시장 진단과 전망 \\n \\n표Ⅰ-1. 공급 확대 정책 주요 내용 \\n날짜 주요 내용 \\n2023년 9월 \\n공공 부문 공급물량 확대: 3기 신도시를 포함한 공급물량 확대 및 조기 공급 방안 마련 \\n사업 여건 개선: 전매 제한 완화 및 규제 정상화, 조기 인허가 인센티브 및 절차 개선, 공사비 증액 \\n기준 마련 및 인력 확충, 분양 사업의 임대 사업 전환 촉진 \\n원활한 자금 지원: PF대출 보증 확대, 중도금 대출 지원 \\n비아파트 자금 조달 지원 및 규제 개선 \\n도심 공급 기반 확충: 정비사업 절차 및 소규모 사업 사업성 개선 \\n2024년 1월 \\n도심 공급 확대: 재건축·재개발 패스트트랙 도입 및 재건축 부담금 합리화, 1기 신도시 재정비사업의 \\n신속하고 내실 있는 계획 수립, 소규모 정비·도심 복합 사업 속도 개선 및 자금 지원 강화 \\n다양한 유형의 주택 공급 확대: 도시·건축 규제 완화 및 세제·금융 지원, 등록 임대 사업 여건 개선 \\n및 기업형 장기임대 활성화, 신축 매입 약정 확대, 전세 사기 예방 및 피해 지원 \\n신도시 등 공공주택 공급: 2024년 공공주택 14만 호 이상 공급, 신도시 조성 속도 제고 \\n건설 경기 활력 회복: PF대출 지원 및 유동성 지원, 공공 임대 참여 지분 조기 매각, 민간 사업장 \\n공공 인수, 재정 조기 집행 및 민자 사업 확대 \\n \\n자료: 국토교통부 보도자료 요약 \\n \\n■ 2024년 주택시장 3대 변수는 공급과 금리, 그리고 정책 \\n주택시장이 상승과 하락을 반복하면서 주택 경기 불확실성이 확대되고 있다. 특히 매수 수요 위축으\\n로 주택 매매 거래량이 급감하면서 향후 주택 경기에 대한 부정적 시각이 팽배하다. 무엇보다 여전히 \\n높은 금리가 부담으로 작용하고 있다. 주택 경기 불황기에 고금리로 인한 대출 부담은 주택 수요를 크\\n게 위축시킬 수밖에 없기 때문이다. \\n \\n그림Ⅰ-11. 매수우위지수 추이  표Ⅰ-2. 주요 금융기관 주택담보대출 금리(2024년 2월) \\n \\n \\n상품명 \\n당월 \\n최저 \\n당월 \\n최고 \\n전월 \\n평균 \\nKB주택담보대출 4.24 5.14 4.85 \\n신한주택대출 3.79 5.29 4.58 \\n우리아파트론 4.74 5.94 5.06 \\n하나원큐 아파트론 4.90 5.30 5.39 \\nNH주택담보대출 4.40 6.40 5.39 \\n카카오주택담보대출 4.54 5.19 4.82 \\n \\n자료: KB국민은행 \\n \\n 주: 아파트, 변동금리, 원리금 분할 상환 기준 \\n자료: 은행연합회'"
      ]
     },
     "execution_count": 10,
     "metadata": {},
     "output_type": "execute_result"
    }
   ],
   "source": [
    "pages[10].page_content"
   ]
  },
  {
   "cell_type": "code",
   "execution_count": 13,
   "id": "16c39b58-5fd3-416c-a049-8661a8da5e71",
   "metadata": {},
   "outputs": [
    {
     "name": "stdout",
     "output_type": "stream",
     "text": [
      "청크의 수 :  83\n",
      "CPU times: user 464 ms, sys: 54.6 ms, total: 519 ms\n",
      "Wall time: 1.75 s\n"
     ]
    }
   ],
   "source": [
    "%%time\n",
    "loader = PyMuPDFLoader('../../assets/pdf/2024_KB_부동산_보고서_최종.pdf')\n",
    "pages = loader.load_and_split()\n",
    "print('청크의 수 : ', len(pages))"
   ]
  },
  {
   "cell_type": "code",
   "execution_count": 14,
   "id": "523d2296-e2e4-4e7c-a50f-e32dc7f53f0b",
   "metadata": {},
   "outputs": [
    {
     "data": {
      "text/plain": [
       "'5 \\n2024 KB 부동산 보고서: 2024년 주택시장 진단과 전망 \\n표Ⅰ-1. 공급 확대 정책 주요 내용 \\n날짜 \\n주요 내용 \\n2023년 9월 \\n공공 부문 공급물량 확대: 3기 신도시를 포함한 공급물량 확대 및 조기 공급 방안 마련 \\n사업 여건 개선: 전매 제한 완화 및 규제 정상화, 조기 인허가 인센티브 및 절차 개선, 공사비 증액 \\n기준 마련 및 인력 확충, 분양 사업의 임대 사업 전환 촉진 \\n원활한 자금 지원: PF대출 보증 확대, 중도금 대출 지원 \\n비아파트 자금 조달 지원 및 규제 개선 \\n도심 공급 기반 확충: 정비사업 절차 및 소규모 사업 사업성 개선 \\n2024년 1월 \\n도심 공급 확대: 재건축·재개발 패스트트랙 도입 및 재건축 부담금 합리화, 1기 신도시 재정비사업의 \\n신속하고 내실 있는 계획 수립, 소규모 정비·도심 복합 사업 속도 개선 및 자금 지원 강화 \\n다양한 유형의 주택 공급 확대: 도시·건축 규제 완화 및 세제·금융 지원, 등록 임대 사업 여건 개선 \\n및 기업형 장기임대 활성화, 신축 매입 약정 확대, 전세 사기 예방 및 피해 지원 \\n신도시 등 공공주택 공급: 2024년 공공주택 14만 호 이상 공급, 신도시 조성 속도 제고 \\n건설 경기 활력 회복: PF대출 지원 및 유동성 지원, 공공 임대 참여 지분 조기 매각, 민간 사업장 \\n공공 인수, 재정 조기 집행 및 민자 사업 확대 \\n자료: 국토교통부 보도자료 요약 \\n \\n■ 2024년 주택시장 3대 변수는 공급과 금리, 그리고 정책 \\n주택시장이 상승과 하락을 반복하면서 주택 경기 불확실성이 확대되고 있다. 특히 매수 수요 위축으\\n로 주택 매매 거래량이 급감하면서 향후 주택 경기에 대한 부정적 시각이 팽배하다. 무엇보다 여전히 \\n높은 금리가 부담으로 작용하고 있다. 주택 경기 불황기에 고금리로 인한 대출 부담은 주택 수요를 크\\n게 위축시킬 수밖에 없기 때문이다. \\n \\n그림Ⅰ-11. 매수우위지수 추이 \\n표Ⅰ-2. 주요 금융기관 주택담보대출 금리(2024년 2월) \\n \\n \\n상품명 \\n당월 \\n최저 \\n당월 \\n최고 \\n전월 \\n평균 \\nKB주택담보대출 \\n4.24 \\n5.14 \\n4.85 \\n신한주택대출 \\n3.79 \\n5.29 \\n4.58 \\n우리아파트론 \\n4.74 \\n5.94 \\n5.06 \\n하나원큐 아파트론 \\n4.90 \\n5.30 \\n5.39 \\nNH주택담보대출 \\n4.40 \\n6.40 \\n5.39 \\n카카오주택담보대출 \\n4.54 \\n5.19 \\n4.82 \\n자료: KB국민은행 \\n주: 아파트, 변동금리, 원리금 분할 상환 기준 \\n자료: 은행연합회'"
      ]
     },
     "execution_count": 14,
     "metadata": {},
     "output_type": "execute_result"
    }
   ],
   "source": [
    "pages[10].page_content"
   ]
  },
  {
   "cell_type": "code",
   "execution_count": 16,
   "id": "bd2f60ec-7257-4d14-b98e-a9835d31f2fd",
   "metadata": {},
   "outputs": [
    {
     "name": "stdout",
     "output_type": "stream",
     "text": [
      "청크의 수 :  83\n",
      "CPU times: user 6.56 s, sys: 59.7 ms, total: 6.62 s\n",
      "Wall time: 7.04 s\n"
     ]
    }
   ],
   "source": [
    "%%time\n",
    "loader = PDFPlumberLoader('../../assets/pdf/2024_KB_부동산_보고서_최종.pdf')\n",
    "pages = loader.load_and_split()\n",
    "print('청크의 수 : ', len(pages))"
   ]
  },
  {
   "cell_type": "code",
   "execution_count": 17,
   "id": "1d40a3cf-4668-4f5b-ab81-417cab6b8215",
   "metadata": {},
   "outputs": [
    {
     "data": {
      "text/plain": [
       "'2024 KB 부동산 보고서: 2024년 주택시장 진단과 전망\\n표Ⅰ-1. 공급 확대 정책 주요 내용\\n날짜 주요 내용\\n공공 부문 공급물량 확대: 3기 신도시를 포함한 공급물량 확대 및 조기 공급 방안 마련\\n사업 여건 개선: 전매 제한 완화 및 규제 정상화, 조기 인허가 인센티브 및 절차 개선, 공사비 증액\\n기준 마련 및 인력 확충, 분양 사업의 임대 사업 전환 촉진\\n2023년 9월\\n원활한 자금 지원: PF대출 보증 확대, 중도금 대출 지원\\n비아파트 자금 조달 지원 및 규제 개선\\n도심 공급 기반 확충: 정비사업 절차 및 소규모 사업 사업성 개선\\n도심 공급 확대: 재건축·재개발 패스트트랙 도입 및 재건축 부담금 합리화, 1기 신도시 재정비사업의\\n신속하고 내실 있는 계획 수립, 소규모 정비·도심 복합 사업 속도 개선 및 자금 지원 강화\\n다양한 유형의 주택 공급 확대: 도시·건축 규제 완화 및 세제·금융 지원, 등록 임대 사업 여건 개선\\n2024년 1월 및 기업형 장기임대 활성화, 신축 매입 약정 확대, 전세 사기 예방 및 피해 지원\\n신도시 등 공공주택 공급: 2024년 공공주택 14만 호 이상 공급, 신도시 조성 속도 제고\\n건설 경기 활력 회복: PF대출 지원 및 유동성 지원, 공공 임대 참여 지분 조기 매각, 민간 사업장\\n공공 인수, 재정 조기 집행 및 민자 사업 확대\\n자료: 국토교통부 보도자료 요약\\n■ 2024년 주택시장 3대 변수는 공급과 금리, 그리고 정책\\n주택시장이 상승과 하락을 반복하면서 주택 경기 불확실성이 확대되고 있다. 특히 매수 수요 위축으\\n로 주택 매매 거래량이 급감하면서 향후 주택 경기에 대한 부정적 시각이 팽배하다. 무엇보다 여전히\\n높은 금리가 부담으로 작용하고 있다. 주택 경기 불황기에 고금리로 인한 대출 부담은 주택 수요를 크\\n게 위축시킬 수밖에 없기 때문이다.\\n그림Ⅰ-11. 매수우위지수 추이 표Ⅰ-2. 주요 금융기관 주택담보대출 금리(2024년 2월)\\n당월 당월 전월\\n상품명\\n최저 최고 평균\\nKB주택담보대출 4.24 5.14 4.85\\n신한주택대출 3.79 5.29 4.58\\n우리아파트론 4.74 5.94 5.06\\n하나원큐 아파트론 4.90 5.30 5.39\\nNH주택담보대출 4.40 6.40 5.39\\n카카오주택담보대출 4.54 5.19 4.82\\n자료: KB국민은행 주: 아파트, 변동금리, 원리금 분할 상환 기준\\n자료: 은행연합회\\n5'"
      ]
     },
     "execution_count": 17,
     "metadata": {},
     "output_type": "execute_result"
    }
   ],
   "source": [
    "pages[10].page_content"
   ]
  },
  {
   "cell_type": "code",
   "execution_count": 18,
   "id": "a8f7ff99-6ef5-4e1d-a75c-fc2096ac6ee4",
   "metadata": {},
   "outputs": [],
   "source": [
    "from langchain_community.document_loaders import CSVLoader, UnstructuredCSVLoader"
   ]
  },
  {
   "cell_type": "code",
   "execution_count": 22,
   "id": "1cc4e6f8-e1ce-441d-9e48-9be4be9e30c8",
   "metadata": {},
   "outputs": [
    {
     "name": "stdout",
     "output_type": "stream",
     "text": [
      "청크의 수 :  569\n",
      "CPU times: user 17.8 ms, sys: 2.48 ms, total: 20.3 ms\n",
      "Wall time: 18.8 ms\n"
     ]
    }
   ],
   "source": [
    "%%time\n",
    "loader = CSVLoader('../../assets/csv/Breast_cancer_dataset.csv')\n",
    "documents = loader.load()\n",
    "print('청크의 수 : ', len(documents))"
   ]
  },
  {
   "cell_type": "code",
   "execution_count": 27,
   "id": "9724dd8a-b9b5-4501-b43d-027289430e57",
   "metadata": {},
   "outputs": [
    {
     "name": "stdout",
     "output_type": "stream",
     "text": [
      "청크의 수 :  1\n",
      "CPU times: user 547 ms, sys: 48.8 ms, total: 595 ms\n",
      "Wall time: 2.52 s\n"
     ]
    }
   ],
   "source": [
    "%%time\n",
    "loader = UnstructuredCSVLoader('../../assets/csv/Breast_cancer_dataset.csv', mode='elements')\n",
    "documents = loader.load()\n",
    "print('청크의 수 : ', len(documents))"
   ]
  },
  {
   "cell_type": "code",
   "execution_count": 31,
   "id": "c60a4f1e-aeba-4128-a22c-9663f9cf8107",
   "metadata": {},
   "outputs": [
    {
     "data": {
      "text/plain": [
       "\"{'source': '../../assets/csv/Breast_cancer_dataset.csv', 'file_directory': '../../assets/csv', 'filename': 'Breast_cancer_dataset.csv', 'last_modified': '2025-08-13T14:43:31', 'text_as_html': '<table><tr><td>id</td><td>diagnosis</td><td>radius_mean</td><td>texture_mean</td><td>perimeter_mean</td><td>area_mean</td><td>smoothness_mean</td><td>compactness_mean</td><td>concavity_mean</td><td>concave points_mean</td><td>symmetry_mean</td><td>fractal_dimension_mean</td><td>radius_se</td><td>texture_se\""
      ]
     },
     "execution_count": 31,
     "metadata": {},
     "output_type": "execute_result"
    }
   ],
   "source": [
    "str(documents[0].metadata)[:500]"
   ]
  }
 ],
 "metadata": {
  "kernelspec": {
   "display_name": "Python 3 (ipykernel)",
   "language": "python",
   "name": "python3"
  },
  "language_info": {
   "codemirror_mode": {
    "name": "ipython",
    "version": 3
   },
   "file_extension": ".py",
   "mimetype": "text/x-python",
   "name": "python",
   "nbconvert_exporter": "python",
   "pygments_lexer": "ipython3",
   "version": "3.11.13"
  }
 },
 "nbformat": 4,
 "nbformat_minor": 5
}
