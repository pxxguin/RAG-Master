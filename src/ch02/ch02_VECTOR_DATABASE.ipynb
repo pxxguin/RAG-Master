{
 "cells": [
  {
   "cell_type": "code",
   "execution_count": 9,
   "id": "665f049c-92d7-4bbd-8b21-58b5b94484b5",
   "metadata": {},
   "outputs": [],
   "source": [
    "from langchain_chroma import Chroma\n",
    "from langchain_community.document_loaders import PyPDFLoader\n",
    "from langchain_text_splitters import RecursiveCharacterTextSplitter\n",
    "from langchain_openai import OpenAIEmbeddings\n",
    "import numpy as np"
   ]
  },
  {
   "cell_type": "code",
   "execution_count": 3,
   "id": "74d92921-4137-4876-9624-a2afaeff533d",
   "metadata": {},
   "outputs": [
    {
     "name": "stdout",
     "output_type": "stream",
     "text": [
      "청크 수 :  84\n"
     ]
    }
   ],
   "source": [
    "loader = PyPDFLoader('../../assets/pdf/2024_KB_부동산_보고서_최종.pdf')\n",
    "pages = loader.load()\n",
    "print('청크 수 : ', len(pages))"
   ]
  },
  {
   "cell_type": "code",
   "execution_count": 4,
   "id": "487e64ee-0811-4a60-a7d8-a10717374986",
   "metadata": {},
   "outputs": [
    {
     "name": "stdout",
     "output_type": "stream",
     "text": [
      "분할된 청크의 수 :  135\n"
     ]
    }
   ],
   "source": [
    "text_splitter = RecursiveCharacterTextSplitter(chunk_size=1000,\n",
    "                                               chunk_overlap=200)\n",
    "splits = text_splitter.split_documents(pages)\n",
    "print('분할된 청크의 수 : ', len(splits))"
   ]
  },
  {
   "cell_type": "code",
   "execution_count": 10,
   "id": "c45a7e16-2ea8-4725-afcc-42dc4c02d6a0",
   "metadata": {},
   "outputs": [
    {
     "name": "stdout",
     "output_type": "stream",
     "text": [
      "청크의 최대 길이 :  1000\n",
      "청크의 최소 길이 :  56\n",
      "평균 청크의 길이 :  674.9481481481481\n"
     ]
    }
   ],
   "source": [
    "chunk_lengths = [len(chunk.page_content) for chunk in splits]\n",
    "print('청크의 최대 길이 : ', max(chunk_lengths))\n",
    "print('청크의 최소 길이 : ', min(chunk_lengths))\n",
    "print('평균 청크의 길이 : ', np.mean(chunk_lengths))"
   ]
  },
  {
   "cell_type": "code",
   "execution_count": 11,
   "id": "4161bb42-0779-4690-aefe-8238364e7465",
   "metadata": {},
   "outputs": [
    {
     "name": "stdout",
     "output_type": "stream",
     "text": [
      "문서의 수 :  135\n"
     ]
    }
   ],
   "source": [
    "vector_db = Chroma.from_documents(\n",
    "    documents=splits,\n",
    "    embedding=OpenAIEmbeddings(),\n",
    "    persist_directory='../../assets/embedding')\n",
    "print('문서의 수 : ', vector_db._collection.count())"
   ]
  },
  {
   "cell_type": "code",
   "execution_count": 13,
   "id": "b7eebdff-fb64-4a79-b509-73b44eea8f92",
   "metadata": {},
   "outputs": [
    {
     "name": "stdout",
     "output_type": "stream",
     "text": [
      "문서의 수 :  135\n"
     ]
    }
   ],
   "source": [
    "vector_db = Chroma(\n",
    "    persist_directory='../../assets/embedding/',\n",
    "    embedding_function=OpenAIEmbeddings())\n",
    "print('문서의 수 : ', vector_db._collection.count())"
   ]
  },
  {
   "cell_type": "code",
   "execution_count": 14,
   "id": "2770310a-1481-4aa6-b0f1-26ee8d9d60de",
   "metadata": {},
   "outputs": [
    {
     "name": "stdout",
     "output_type": "stream",
     "text": [
      "문서 : 0\n",
      "내용 : 8 \n",
      "2024 KB 부동산 보고서: 2024년 주택시장 진단과 전망 \n",
      " \n",
      "실 등에 따른 주택 경기 불안을 이유로 매매를 망설이며 시세 대비 저렴한 매물에만 관심을 보였다. 결\n",
      "국 매도자와 매수자 간 희망가격 차이로 인한 매매 거래 위축 현상은 2023년 거래 침체의 가장 큰 원\n",
      "인으로 볼 수 있다. \n",
      "또한 과거 전국적인 주택 거래 호황기와는 달리 서울 등 일부 지역을 중심으로 매수세가 형성되고, \n",
      "전세 사기를 포함한 보증금 미반환 리스크에 따라 비아파트에 대한 선호도가 낮아지면서 아파트로 수\n",
      "요가 집중되었다. 거시경제 불확실성이 확대되면서 투자 수요 보다 실수요를 중심으로 매매 거래가 이\n",
      "루어지는 등 다양한 원인이 복합적으로 작용하여 거래 침체를 유발하였다. \n",
      "이에 따라 꾸준한 주택 재고 증가에도 불구하고 주택 매매 거래회전율(전체 주택 재고 대비 주택 매\n",
      "매거래 비율)은 최근 2년간 평균 3%를 하회하면서 지난 10년 전국 평균(6%) 대비 절반 수준에 머물\n",
      "렀다. 전체 주택시장에 미치는 영향력이 큰 서울의 주택 거래회전율은 최근 2년 평균 1%로 전국 최저\n",
      "치를 기록하였다. 주택시장이 안정적인 상황을 유지하기 위해서는 주택 구입·처분·이사 등 일련의 과정\n",
      "이 반복되어야 한다. 거래 침체가 지속될 경우 주거 이전, 주택가격 왜곡과 연관 산업 침체, 지방자치단\n",
      "체 조세 수입 감소 등 다양한 문제 발생으로 이어질 수 있어 주의가 필요하다.  \n",
      " \n",
      "그림Ⅰ-14. 매수우위지수 및 매매가격전망지수 추이  그림Ⅰ-15. 전국 및 서울 주택 매매 거래회전율 추이 \n",
      " \n",
      " \n",
      " \n",
      "주: 갭=매매가격전망지수-매수우위지수 \n",
      "자료: KB국민은행  \n",
      "자료: 부동산114 \n",
      " \n",
      " \n",
      "■ 하반기 이후 거래 침체 현상이 다소 완화될 수 있으나 전반적인 회복세는 제한적일 것 \n",
      "주택 매매 거래 회복을 위해서는 매도자와 매수자 간 희망가격 격차 축소와 매수세 회복이 중요한데, \n",
      "여전히 불확실한 주택가격 향방으로 주택시장에 대한 매도자와 매수자의 기대감이 달라 이러한 요인들\n",
      "메타데이터 : {'author': '손은경', 'creator': 'Microsoft® Word 2016', 'page': 14, 'page_label': '15', 'moddate': '2024-03-04T15:30:01+09:00', 'creationdate': '2024-03-04T15:30:01+09:00', 'total_pages': 84, 'title': 'Morning Meeting', 'source': '../../assets/pdf/2024_KB_부동산_보고서_최종.pdf', 'producer': 'Microsoft® Word 2016'}\n",
      "문서 : 1\n",
      "내용 : 18 \n",
      "2024 KB 부동산 보고서: 2024년 주택시장 진단과 전망 \n",
      " \n",
      "그림Ⅰ-30. 수도권 입주물량과 전세가격 변동률 추이  그림Ⅰ-31. 기타지방 입주물량과 전세가격 변동률 추이 \n",
      " \n",
      " \n",
      " \n",
      "자료: KB국민은행, 부동산114  자료: KB국민은행, 부동산114\n",
      "메타데이터 : {'creationdate': '2024-03-04T15:30:01+09:00', 'moddate': '2024-03-04T15:30:01+09:00', 'source': '../../assets/pdf/2024_KB_부동산_보고서_최종.pdf', 'author': '손은경', 'page': 24, 'total_pages': 84, 'creator': 'Microsoft® Word 2016', 'page_label': '25', 'producer': 'Microsoft® Word 2016', 'title': 'Morning Meeting'}\n"
     ]
    }
   ],
   "source": [
    "question = '수도권 주택 매매 전망'\n",
    "top_three_docs = vector_db.similarity_search(query=question,\n",
    "                                             k=2)\n",
    "for i, doc in enumerate(top_three_docs):\n",
    "    print(f'문서 : {i}')\n",
    "    print(f'내용 : {doc.page_content}')\n",
    "    print(f'메타데이터 : {doc.metadata}')"
   ]
  },
  {
   "cell_type": "code",
   "execution_count": 19,
   "id": "ece5613b-ead6-4433-af7d-f9267e87a36e",
   "metadata": {},
   "outputs": [
    {
     "name": "stdout",
     "output_type": "stream",
     "text": [
      "문서 : 1\n",
      "유사도 : 0.8445251438043149\n",
      "내용 : 8 \n",
      "2024 KB 부동산 보고서: 2024년 주택시장 진단과 전망 \n",
      " \n",
      "실 등에 따른 주택 경기 불안을 이유로 매매를 망설이며 시세 대비 저렴한 매물에만 관심을 보였다. 결\n",
      "국 매도자와 매수자 간 희망가격 차이로 인한 매매 거래 위축 현상은 2023년 거래 침체의 가장 큰 원\n",
      "인으로 볼 수 있다. \n",
      "또한 과거 전국적인 주택 거래 호황기와는 달리 서울 등 일부 지역을 중심으로 매수세가 형성되고, \n",
      "전세 사기를 포함한 보증금 미반환 리스크에 따라 비아파트에 대한 선호도가 낮아지면서 아파트로 수\n",
      "요가 집중되었다. 거시경제 불확실성이 확대되면서 투자 수요 보다 실수요를 중심으로 매매 거래가 이\n",
      "루어지는 등 다양한 원인이 복합적으로 작용하여 거래 침체를 유발하였다. \n",
      "이에 따라 꾸준한 주택 재고 증가에도 불구하고 주택 매매 거래회전율(전체 주택 재고 대비 주택 매\n",
      "매거래 비율)은 최근 2년간 평균 3%를 하회하면서 지난 10년 전국 평균(6%) 대비 절반 수준에 머물\n",
      "렀다. 전체 주택시장에 미치는 영향력이 큰 서울의 주택 거래회전율은 최근 2년 평균 1%로 전국 최저\n",
      "치를 기록하였다. 주택시장이 안정적인 상황을 유지하기 위해서는 주택 구입·처분·이사 등 일련의 과정\n",
      "이 반복되어야 한다. 거래 침체가 지속될 경우 주거 이전, 주택가격 왜곡과 연관 산업 침체, 지방자치단\n",
      "체 조세 수입 감소 등 다양한 문제 발생으로 이어질 수 있어 주의가 필요하다.  \n",
      " \n",
      "그림Ⅰ-14. 매수우위지수 및 매매가격전망지수 추이  그림Ⅰ-15. 전국 및 서울 주택 매매 거래회전율 추이 \n",
      " \n",
      " \n",
      " \n",
      "주: 갭=매매가격전망지수-매수우위지수 \n",
      "자료: KB국민은행  \n",
      "자료: 부동산114 \n",
      " \n",
      " \n",
      "■ 하반기 이후 거래 침체 현상이 다소 완화될 수 있으나 전반적인 회복세는 제한적일 것 \n",
      "주택 매매 거래 회복을 위해서는 매도자와 매수자 간 희망가격 격차 축소와 매수세 회복이 중요한데, \n",
      "여전히 불확실한 주택가격 향방으로 주택시장에 대한 매도자와 매수자의 기대감이 달라 이러한 요인들\n",
      "메타데이터 : {'creationdate': '2024-03-04T15:30:01+09:00', 'producer': 'Microsoft® Word 2016', 'title': 'Morning Meeting', 'creator': 'Microsoft® Word 2016', 'page': 14, 'total_pages': 84, 'source': '../../assets/pdf/2024_KB_부동산_보고서_최종.pdf', 'moddate': '2024-03-04T15:30:01+09:00', 'author': '손은경', 'page_label': '15'}\n",
      "문서 : 2\n",
      "유사도 : 0.832842195447777\n",
      "내용 : 18 \n",
      "2024 KB 부동산 보고서: 2024년 주택시장 진단과 전망 \n",
      " \n",
      "그림Ⅰ-30. 수도권 입주물량과 전세가격 변동률 추이  그림Ⅰ-31. 기타지방 입주물량과 전세가격 변동률 추이 \n",
      " \n",
      " \n",
      " \n",
      "자료: KB국민은행, 부동산114  자료: KB국민은행, 부동산114\n",
      "메타데이터 : {'page': 24, 'moddate': '2024-03-04T15:30:01+09:00', 'producer': 'Microsoft® Word 2016', 'total_pages': 84, 'title': 'Morning Meeting', 'source': '../../assets/pdf/2024_KB_부동산_보고서_최종.pdf', 'page_label': '25', 'author': '손은경', 'creator': 'Microsoft® Word 2016', 'creationdate': '2024-03-04T15:30:01+09:00'}\n",
      "문서 : 3\n",
      "유사도 : 0.8314668384137452\n",
      "내용 : 3 \n",
      "2024 KB 부동산 보고서: 2024년 주택시장 진단과 전망 \n",
      " \n",
      "  \n",
      " \n",
      " \n",
      "Executive Summary 3 \n",
      " 수도권 주택시장 전반적 침체, 강남권 등 선호 지역 상대적 강세 \n",
      "과거와는 달리 높은 기준금리와 주택 매매가격, DSR 규제 등으로 매수자들의 구매 여력은 회복되지 \n",
      "못하고 있으나, 2023년 이후 정부의 다양한 규제 완화로 매도자들의 기대 심리는 높아지고 있다. 재건축 \n",
      "규제 완화, 광역급행철도(GTX, Great Train Express) 개통 등에 따라 지역별로 호재가 존재하며 부동산 \n",
      "PF대출 부실, 전세보증금 반환 문제 등 전반적인 주택 경기 위축 요소들도 상존하고 있다. \n",
      " \n",
      "구분 지역명 주요 이슈 \n",
      "서울 \n",
      "한강 \n",
      "이남 \n",
      "강남구 정부 규제 완화와 주택 수요 집중으로 긍정적 기대감 유지 \n",
      "서초구 높은 분양가에도 청약 수요는 많으나 진행 중인 정비사업은 차별화 예상 \n",
      "송파구 전세가격 하락에 영향을 줄 수 있는 대규모 단지 입주 예정 \n",
      "양천구 재건축 사업 진행은 긍정적이나 토지거래허가구역으로 매매시장 위축 지속 \n",
      "서울 \n",
      "한강 \n",
      "이북 \n",
      "마포구 지역 내에서 매수세 변화가 나타나면서 지역간 매매가격 격차 확대 \n",
      "용산구 한남뉴타운 사업 진행은 양호하나 여전히 큰 매도자와 매수자 간 간극 \n",
      "성동구 대기 수요는 많으나 실제 매수 가담 여부가 중요한 요소로 작용할 것 \n",
      "수도권 \n",
      "위례 위례선 개통 예정과 위례신사선 착공 지연으로 긍정적·부정적 요인이 혼재 \n",
      "과천 지식정보타운의 본격적인 입주와 교통 개발로 지역 확대 \n",
      "동탄 교통 개선과 반도체 관련 수요보다 수도권 주택시장 및 금리 영향이 클 전망 \n",
      " \n",
      " 상업용 부동산시장  \n",
      "고금리와 경기 불확실성 확대 영향으로 2023년 상업용 부동산시장은 거래량이 크게 감소하고 평균 \n",
      "매매가격 역시 하락하였다. 거래량 감소와 함께 매매가격이 하락하면서 2023년 상업용 부동산 거래총액은 \n",
      "2022년 대비 34.8% 감소했다.\n",
      "메타데이터 : {'source': '../../assets/pdf/2024_KB_부동산_보고서_최종.pdf', 'page_label': '4', 'creator': 'Microsoft® Word 2016', 'title': 'Morning Meeting', 'page': 3, 'total_pages': 84, 'creationdate': '2024-03-04T15:30:01+09:00', 'author': '손은경', 'moddate': '2024-03-04T15:30:01+09:00', 'producer': 'Microsoft® Word 2016'}\n"
     ]
    }
   ],
   "source": [
    "question = '수도권 주택 매매 전망'\n",
    "top_three_docs = vector_db.similarity_search_with_relevance_scores(query=question,\n",
    "                                                                   k=3)\n",
    "for i, doc in enumerate(top_three_docs, 1):\n",
    "    print(f'문서 : {i}')\n",
    "    print(f'유사도 : {doc[1]}')\n",
    "    print(f'내용 : {doc[0].page_content}')\n",
    "    print(f'메타데이터 : {doc[0].metadata}')"
   ]
  },
  {
   "cell_type": "code",
   "execution_count": 21,
   "id": "20498a65-8a39-4921-9061-202c3c6f4ffd",
   "metadata": {},
   "outputs": [],
   "source": [
    "from langchain_community.vectorstores import FAISS"
   ]
  },
  {
   "cell_type": "code",
   "execution_count": 25,
   "id": "232c2fbd-408a-406c-9bcf-e0db890b0573",
   "metadata": {},
   "outputs": [],
   "source": [
    "faiss_db = FAISS.from_documents(\n",
    "    embedding=OpenAIEmbeddings(),\n",
    "    documents=splits)\n",
    "faiss_db.save_local('../../assets/embedding/')"
   ]
  },
  {
   "cell_type": "code",
   "execution_count": 26,
   "id": "40e11168-0738-4887-b819-a4601ea4e4db",
   "metadata": {},
   "outputs": [
    {
     "name": "stdout",
     "output_type": "stream",
     "text": [
      "문서의 수 :  135\n"
     ]
    }
   ],
   "source": [
    "print('문서의 수 : ', faiss_db.index.ntotal)"
   ]
  },
  {
   "cell_type": "code",
   "execution_count": 27,
   "id": "c333cb3a-b8a2-4ac0-8a36-e5b5fd12fbc6",
   "metadata": {},
   "outputs": [
    {
     "name": "stdout",
     "output_type": "stream",
     "text": [
      "문서의 수 :  135\n"
     ]
    }
   ],
   "source": [
    "faiss_db = FAISS.load_local(\n",
    "    folder_path='../../assets/embedding/',\n",
    "    embeddings=OpenAIEmbeddings(),\n",
    "    allow_dangerous_deserialization=True)\n",
    "print('문서의 수 : ', faiss_db.index.ntotal)"
   ]
  },
  {
   "cell_type": "code",
   "execution_count": 28,
   "id": "6fcda59a-9083-41af-bc69-d7103d069ccd",
   "metadata": {},
   "outputs": [
    {
     "name": "stdout",
     "output_type": "stream",
     "text": [
      "문서 : 1\n",
      "내용 : 8 \n",
      "2024 KB 부동산 보고서: 2024년 주택시장 진단과 전망 \n",
      " \n",
      "실 등에 따른 주택 경기 불안을 이유로 매매를 망설이며 시세 대비 저렴한 매물에만 관심을 보였다. 결\n",
      "국 매도자와 매수자 간 희망가격 차이로 인한 매매 거래 위축 현상은 2023년 거래 침체의 가장 큰 원\n",
      "인으로 볼 수 있다. \n",
      "또한 과거 전국적인 주택 거래 호황기와는 달리 서울 등 일부 지역을 중심으로 매수세가 형성되고, \n",
      "전세 사기를 포함한 보증금 미반환 리스크에 따라 비아파트에 대한 선호도가 낮아지면서 아파트로 수\n",
      "요가 집중되었다. 거시경제 불확실성이 확대되면서 투자 수요 보다 실수요를 중심으로 매매 거래가 이\n",
      "루어지는 등 다양한 원인이 복합적으로 작용하여 거래 침체를 유발하였다. \n",
      "이에 따라 꾸준한 주택 재고 증가에도 불구하고 주택 매매 거래회전율(전체 주택 재고 대비 주택 매\n",
      "매거래 비율)은 최근 2년간 평균 3%를 하회하면서 지난 10년 전국 평균(6%) 대비 절반 수준에 머물\n",
      "렀다. 전체 주택시장에 미치는 영향력이 큰 서울의 주택 거래회전율은 최근 2년 평균 1%로 전국 최저\n",
      "치를 기록하였다. 주택시장이 안정적인 상황을 유지하기 위해서는 주택 구입·처분·이사 등 일련의 과정\n",
      "이 반복되어야 한다. 거래 침체가 지속될 경우 주거 이전, 주택가격 왜곡과 연관 산업 침체, 지방자치단\n",
      "체 조세 수입 감소 등 다양한 문제 발생으로 이어질 수 있어 주의가 필요하다.  \n",
      " \n",
      "그림Ⅰ-14. 매수우위지수 및 매매가격전망지수 추이  그림Ⅰ-15. 전국 및 서울 주택 매매 거래회전율 추이 \n",
      " \n",
      " \n",
      " \n",
      "주: 갭=매매가격전망지수-매수우위지수 \n",
      "자료: KB국민은행  \n",
      "자료: 부동산114 \n",
      " \n",
      " \n",
      "■ 하반기 이후 거래 침체 현상이 다소 완화될 수 있으나 전반적인 회복세는 제한적일 것 \n",
      "주택 매매 거래 회복을 위해서는 매도자와 매수자 간 희망가격 격차 축소와 매수세 회복이 중요한데, \n",
      "여전히 불확실한 주택가격 향방으로 주택시장에 대한 매도자와 매수자의 기대감이 달라 이러한 요인들\n",
      "메타데이터 : {'producer': 'Microsoft® Word 2016', 'creator': 'Microsoft® Word 2016', 'creationdate': '2024-03-04T15:30:01+09:00', 'title': 'Morning Meeting', 'author': '손은경', 'moddate': '2024-03-04T15:30:01+09:00', 'source': '../../assets/pdf/2024_KB_부동산_보고서_최종.pdf', 'total_pages': 84, 'page': 14, 'page_label': '15'}\n",
      "문서 : 2\n",
      "내용 : 18 \n",
      "2024 KB 부동산 보고서: 2024년 주택시장 진단과 전망 \n",
      " \n",
      "그림Ⅰ-30. 수도권 입주물량과 전세가격 변동률 추이  그림Ⅰ-31. 기타지방 입주물량과 전세가격 변동률 추이 \n",
      " \n",
      " \n",
      " \n",
      "자료: KB국민은행, 부동산114  자료: KB국민은행, 부동산114\n",
      "메타데이터 : {'producer': 'Microsoft® Word 2016', 'creator': 'Microsoft® Word 2016', 'creationdate': '2024-03-04T15:30:01+09:00', 'title': 'Morning Meeting', 'author': '손은경', 'moddate': '2024-03-04T15:30:01+09:00', 'source': '../../assets/pdf/2024_KB_부동산_보고서_최종.pdf', 'total_pages': 84, 'page': 24, 'page_label': '25'}\n",
      "문서 : 3\n",
      "내용 : 3 \n",
      "2024 KB 부동산 보고서: 2024년 주택시장 진단과 전망 \n",
      " \n",
      "  \n",
      " \n",
      " \n",
      "Executive Summary 3 \n",
      " 수도권 주택시장 전반적 침체, 강남권 등 선호 지역 상대적 강세 \n",
      "과거와는 달리 높은 기준금리와 주택 매매가격, DSR 규제 등으로 매수자들의 구매 여력은 회복되지 \n",
      "못하고 있으나, 2023년 이후 정부의 다양한 규제 완화로 매도자들의 기대 심리는 높아지고 있다. 재건축 \n",
      "규제 완화, 광역급행철도(GTX, Great Train Express) 개통 등에 따라 지역별로 호재가 존재하며 부동산 \n",
      "PF대출 부실, 전세보증금 반환 문제 등 전반적인 주택 경기 위축 요소들도 상존하고 있다. \n",
      " \n",
      "구분 지역명 주요 이슈 \n",
      "서울 \n",
      "한강 \n",
      "이남 \n",
      "강남구 정부 규제 완화와 주택 수요 집중으로 긍정적 기대감 유지 \n",
      "서초구 높은 분양가에도 청약 수요는 많으나 진행 중인 정비사업은 차별화 예상 \n",
      "송파구 전세가격 하락에 영향을 줄 수 있는 대규모 단지 입주 예정 \n",
      "양천구 재건축 사업 진행은 긍정적이나 토지거래허가구역으로 매매시장 위축 지속 \n",
      "서울 \n",
      "한강 \n",
      "이북 \n",
      "마포구 지역 내에서 매수세 변화가 나타나면서 지역간 매매가격 격차 확대 \n",
      "용산구 한남뉴타운 사업 진행은 양호하나 여전히 큰 매도자와 매수자 간 간극 \n",
      "성동구 대기 수요는 많으나 실제 매수 가담 여부가 중요한 요소로 작용할 것 \n",
      "수도권 \n",
      "위례 위례선 개통 예정과 위례신사선 착공 지연으로 긍정적·부정적 요인이 혼재 \n",
      "과천 지식정보타운의 본격적인 입주와 교통 개발로 지역 확대 \n",
      "동탄 교통 개선과 반도체 관련 수요보다 수도권 주택시장 및 금리 영향이 클 전망 \n",
      " \n",
      " 상업용 부동산시장  \n",
      "고금리와 경기 불확실성 확대 영향으로 2023년 상업용 부동산시장은 거래량이 크게 감소하고 평균 \n",
      "매매가격 역시 하락하였다. 거래량 감소와 함께 매매가격이 하락하면서 2023년 상업용 부동산 거래총액은 \n",
      "2022년 대비 34.8% 감소했다.\n",
      "메타데이터 : {'producer': 'Microsoft® Word 2016', 'creator': 'Microsoft® Word 2016', 'creationdate': '2024-03-04T15:30:01+09:00', 'title': 'Morning Meeting', 'author': '손은경', 'moddate': '2024-03-04T15:30:01+09:00', 'source': '../../assets/pdf/2024_KB_부동산_보고서_최종.pdf', 'total_pages': 84, 'page': 3, 'page_label': '4'}\n",
      "문서 : 4\n",
      "내용 : 30 \n",
      "2024 KB 부동산 보고서: 주택시장 설문조사 \n",
      " \n",
      " \n",
      "■ 주택 전세가격, 비수도권 하락 전망이 우세한 가운데 수도권 전망은 엇갈려 \n",
      "2024년 전국 주택 전세가격에 대해 전문가의 53%, 공인중개사의 61%가 하락을 전망하였다. 하락\n",
      "폭에 대해서는 3% 이하가 될 것이라는 의견이 많았다. 2023년 설문조사 결과와 비교해 하락 전망은 \n",
      "크게 줄어들었으며, 하락폭 역시 지난해보다 크지 않을 것이라는 의견이 많았다. 한편 전문가의 47%, \n",
      "공인중개사의 39%는 전세가격이 상승할 것으로 예상하였다. 이는 지난 조사에서 응답자의 6%만이 \n",
      "2023년 전세가격 상승을 전망하였던 것과 비교해 크게 증가한 결과다. 2024년에도 매매시장 부진이 \n",
      "지속될 것이라는 전망이 우세한 가운데 전세 수요 증가에 따른 영향을 반영한 결과로 풀이된다. \n",
      " \n",
      "그림Ⅱ-5. 2024년 전국 주택 전세가격 전망 \n",
      " \n",
      "자료: KB경영연구소 \n",
      " \n",
      "지역별로 수도권에서는 2024년 주택 전세가격이 상승할 것이라는 의견이 전문가 52%, 공인중개사 \n",
      "53%로 많았으나 하락 의견을 제시한 비율과 큰 차이를 보이지 않아 시장에 대한 전망이 엇갈리는 모\n",
      "습을 보였다. 비수도권에서는 전문가의 68%와 공인중개사의 57%가 전세가격 하락을 예상하였다. 주\n",
      "택 매매가격 전망과 마찬가지로 전세가격에 대해서도 비수도권의 경우 전문가와 공인중개사의 의견에 \n",
      "차이가 있었다. 전문가는 하락 가능성을, 공인중개사는 상승 가능성을 상대적으로 높게 보았다. \n",
      " \n",
      "그림Ⅱ-6. 2024년 지역별 주택 전세가격 전망 \n",
      " \n",
      "자료: KB경영연구소\n",
      "메타데이터 : {'producer': 'Microsoft® Word 2016', 'creator': 'Microsoft® Word 2016', 'creationdate': '2024-03-04T15:30:01+09:00', 'title': 'Morning Meeting', 'author': '손은경', 'moddate': '2024-03-04T15:30:01+09:00', 'source': '../../assets/pdf/2024_KB_부동산_보고서_최종.pdf', 'total_pages': 84, 'page': 36, 'page_label': '37'}\n"
     ]
    }
   ],
   "source": [
    "question = '수도권 주택 매매 전망'\n",
    "docs = faiss_db.similarity_search(query=question)\n",
    "for i, doc in enumerate(docs, 1):\n",
    "    print(f'문서 : {i}')\n",
    "    print(f'내용 : {doc.page_content}')\n",
    "    print(f'메타데이터 : {doc.metadata}')"
   ]
  }
 ],
 "metadata": {
  "kernelspec": {
   "display_name": "Python 3 (ipykernel)",
   "language": "python",
   "name": "python3"
  },
  "language_info": {
   "codemirror_mode": {
    "name": "ipython",
    "version": 3
   },
   "file_extension": ".py",
   "mimetype": "text/x-python",
   "name": "python",
   "nbconvert_exporter": "python",
   "pygments_lexer": "ipython3",
   "version": "3.11.13"
  }
 },
 "nbformat": 4,
 "nbformat_minor": 5
}
