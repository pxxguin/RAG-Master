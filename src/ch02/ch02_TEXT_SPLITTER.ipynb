{
 "cells": [
  {
   "cell_type": "code",
   "execution_count": 25,
   "id": "053a1183-300b-4470-a37f-75406af90009",
   "metadata": {},
   "outputs": [],
   "source": [
    "from langchain.text_splitter import RecursiveCharacterTextSplitter\n",
    "from langchain_community.document_loaders import PyPDFLoader"
   ]
  },
  {
   "cell_type": "code",
   "execution_count": 26,
   "id": "8ad1fe5c-7dc4-49ed-9d4f-5216b7216f86",
   "metadata": {},
   "outputs": [
    {
     "name": "stdout",
     "output_type": "stream",
     "text": [
      "총 글자수 :  82384\n"
     ]
    }
   ],
   "source": [
    "loader = PyPDFLoader(file_path='../../assets/pdf/2024_KB_부동산_보고서_최종.pdf')\n",
    "pages = loader.load()\n",
    "\n",
    "print('총 글자수 : ', len(''.join([i.page_content for i in pages])))"
   ]
  },
  {
   "cell_type": "code",
   "execution_count": 28,
   "id": "a08d2fca-8d0c-40e3-9cd1-43e0f21829b0",
   "metadata": {},
   "outputs": [
    {
     "name": "stdout",
     "output_type": "stream",
     "text": [
      "분할된 청크 개수:  218\n"
     ]
    }
   ],
   "source": [
    "text_splitter = RecursiveCharacterTextSplitter(chunk_size=500, chunk_overlap=50)\n",
    "texts = text_splitter.split_documents(pages)\n",
    "print('분할된 청크 개수: ', len(texts))"
   ]
  },
  {
   "cell_type": "code",
   "execution_count": 30,
   "id": "4e7bf9d5-d751-47f7-8fd3-9441fae74a2b",
   "metadata": {},
   "outputs": [
    {
     "data": {
      "text/plain": [
       "'변수가 될 것이다. 기준금리 인하 시기와 인하 폭에 따라 주택 수요는 영향을 받을 수밖에 없기 때문이다. \\n한편, 수요 위축으로 거래가 급감한 상황에서 실수요자 금융 지원, 관련 규제 완화 등 수요 회복을 위한 \\n정부 정책도 중요한 변수가 될 전망이다. \\n \\n\\uf06e 7대 이슈를 통해 바라보는 2024년 주택시장 \\n1 역대 최저 수준이 지속되고 있는 주택 거래 \\n \\n주택 매매 거래는 2022년에 이어 2년 연속 침체. 총선 이후 정책 불확실성 해소와 금리 인하로 인한 회\\n복 가능성이 있으나 일부 지역 수요 쏠림 현상과 금리 인하 속도가 더딜 경우 회복세는 제한적일 전망 \\n2 주택공급 급격한 감소로 인한 공급 부족 가능성 \\n \\n분양물량과 함께 장기적인 주택 공급 기반인 인허가물량까지 급감. 청약 수요 위축으로 분양 지연이 장기\\n화될 가능성이 높은 가운데 정부의 공급 정책 구체화가 매우 중요 \\n3 노후계획도시 특별법과 재건축 시장 영향'"
      ]
     },
     "execution_count": 30,
     "metadata": {},
     "output_type": "execute_result"
    }
   ],
   "source": [
    "texts[1].page_content"
   ]
  },
  {
   "cell_type": "code",
   "execution_count": 31,
   "id": "7a1cbbf3-31cd-4efe-83a0-dea2cc983288",
   "metadata": {},
   "outputs": [
    {
     "data": {
      "text/plain": [
       "'3 노후계획도시 특별법과 재건축 시장 영향 \\n \\n2023년 말 국회를 통과한 「노후계획도시 특별법」 시행을 앞두고 당초 51곳이었던 대상 지역이 108곳으\\n로 확대. 단기적 효과는 제한적이나 사업진행이 구체화되면 시장 영향도 커질 것  \\n4 전세 수요 아파트 집중, 입주물량 부족으로 가격 상승 가능성 확대 \\n \\n비아파트 전세 사기와 보증금 미반환 이슈 등으로 아파트로 전세 수요가 집중되는 가운데 수도권을 중심\\n으로 아파트 입주물량이 크게 감소함에 따라 다시 전세가격 상승세가 확대될 가능성이 존재 \\n5 주택 경기에 최대 화두로 부각되는 금리 인하 가능성 \\n \\n금리 인하에 따른 매수 심리 회복에 대한 기대감이 높아지고 있지만 가계 부채 관리 강화와 경기 불확실\\n성 확대 등이 존재하는 시장에서 금리 인하 시기와 인하폭이 관건 \\n6 주택경기 위축에도 늘어나는 주택담보대출 \\n \\n주택담보대출 증가세는 다소 둔화될 것으로 전망되나 가계부채에 대한 우려가 지속될 경우 매수세 회복을'"
      ]
     },
     "execution_count": 31,
     "metadata": {},
     "output_type": "execute_result"
    }
   ],
   "source": [
    "texts[2].page_content"
   ]
  },
  {
   "cell_type": "code",
   "execution_count": 32,
   "id": "4f4ede3c-8da3-48d0-8d65-34297c571ee6",
   "metadata": {},
   "outputs": [],
   "source": [
    "from langchain_experimental.text_splitter import SemanticChunker\n",
    "from langchain_openai.embeddings import OpenAIEmbeddings"
   ]
  },
  {
   "cell_type": "code",
   "execution_count": 33,
   "id": "934f8ff0-0960-4783-9b68-a80b3c270eb4",
   "metadata": {},
   "outputs": [
    {
     "name": "stdout",
     "output_type": "stream",
     "text": [
      "분리된 청크 개수는 :  164\n"
     ]
    }
   ],
   "source": [
    "loader = PyPDFLoader('../../assets/pdf/2024_KB_부동산_보고서_최종.pdf')\n",
    "pages = loader.load()\n",
    "\n",
    "text_splitter = SemanticChunker(embeddings=OpenAIEmbeddings())\n",
    "\n",
    "chunks = text_splitter.split_documents(pages)\n",
    "\n",
    "print('분리된 청크 개수는 : ', len(chunks))"
   ]
  },
  {
   "cell_type": "code",
   "execution_count": 36,
   "id": "388ece7b-151e-44bb-8b72-94f6bc0fd9e7",
   "metadata": {},
   "outputs": [
    {
     "data": {
      "text/plain": [
       "'1 \\n2024 KB 부동산 보고서: 2024년 주택시장 진단과 전망 \\n \\n \\n \\nExecutive Summary 1 \\n\\uf06e 2024년 주택시장 하향 안정 전망, 금리와 공급, 그리고 정책 3대 변수 주목 \\n주택경기가 상승과 하락을 반복하면서 주택 경기의 불확실성이 확대되고 있으나. 완만한 하향 조정 \\n가능성이 큰 상황이다.'"
      ]
     },
     "execution_count": 36,
     "metadata": {},
     "output_type": "execute_result"
    }
   ],
   "source": [
    "chunks[1].page_content"
   ]
  },
  {
   "cell_type": "code",
   "execution_count": 37,
   "id": "4f84f801-d283-40cf-9315-1dabd9c25d67",
   "metadata": {},
   "outputs": [
    {
     "data": {
      "text/plain": [
       "'매수 수요 위축으로 주택 매매 거래량이 급감하면서 향후 주택 경기에 대한 부정적 \\n시각이 팽배하다. 무엇보다 여전히 높은 금리가 부담으로 작용하고 있다. 주택 경기 불황기에 고금리 \\n부담은 주택 수요를 크게 위축시킬 수밖에 없기 때문이다. 다만 주택시장의 주요 변수들의 상황에 따라 \\n소폭 반등 혹은 하락폭 확대 등의 방향이 정해질 것으로 보인다. 2024년 주택시장의 주요 변수는 공급과 금리다. 급격하게 위축된 주택 공급이 단기간에 증가하기는 \\n쉽지 않으나 정부의 공급 시그널이 지속된다면 일정 부분 해소가 될 가능성이 있다. 무엇보다 금리가 주요 \\n변수가 될 것이다. 기준금리 인하 시기와 인하 폭에 따라 주택 수요는 영향을 받을 수밖에 없기 때문이다. 한편, 수요 위축으로 거래가 급감한 상황에서 실수요자 금융 지원, 관련 규제 완화 등 수요 회복을 위한 \\n정부 정책도 중요한 변수가 될 전망이다. \\uf06e 7대 이슈를 통해 바라보는 2024년 주택시장 \\n1 역대 최저 수준이 지속되고 있는 주택 거래 \\n \\n주택 매매 거래는 2022년에 이어 2년 연속 침체. 총선 이후 정책 불확실성 해소와 금리 인하로 인한 회\\n복 가능성이 있으나 일부 지역 수요 쏠림 현상과 금리 인하 속도가 더딜 경우 회복세는 제한적일 전망 \\n2 주택공급 급격한 감소로 인한 공급 부족 가능성 \\n \\n분양물량과 함께 장기적인 주택 공급 기반인 인허가물량까지 급감. 청약 수요 위축으로 분양 지연이 장기\\n화될 가능성이 높은 가운데 정부의 공급 정책 구체화가 매우 중요 \\n3 노후계획도시 특별법과 재건축 시장 영향 \\n \\n2023년 말 국회를 통과한 「노후계획도시 특별법」 시행을 앞두고 당초 51곳이었던 대상 지역이 108곳으\\n로 확대. 단기적 효과는 제한적이나 사업진행이 구체화되면 시장 영향도 커질 것  \\n4 전세 수요 아파트 집중, 입주물량 부족으로 가격 상승 가능성 확대 \\n \\n비아파트 전세 사기와 보증금 미반환 이슈 등으로 아파트로 전세 수요가 집중되는 가운데 수도권을 중심\\n으로 아파트 입주물량이 크게 감소함에 따라 다시 전세가격 상승세가 확대될 가능성이 존재 \\n5 주택 경기에 최대 화두로 부각되는 금리 인하 가능성 \\n \\n금리 인하에 따른 매수 심리 회복에 대한 기대감이 높아지고 있지만 가계 부채 관리 강화와 경기 불확실\\n성 확대 등이 존재하는 시장에서 금리 인하 시기와 인하폭이 관건 \\n6 주택경기 위축에도 늘어나는 주택담보대출 \\n \\n주택담보대출 증가세는 다소 둔화될 것으로 전망되나 가계부채에 대한 우려가 지속될 경우 매수세 회복을 \\n위한 적극적인 정책 추진에는 제약 요인이 될 것 \\n7 주택시장 안정화를 위한 정책 기조 지속, 완화 폭이 핵심 \\n \\n주택 공급시장 관리와 거래 활성화가 정부 정책의 가장 큰 화두이며, 규제 완화 기조는 2024년에도 지속\\n되는 데 반해 수요 지원은 제한적일 전망'"
      ]
     },
     "execution_count": 37,
     "metadata": {},
     "output_type": "execute_result"
    }
   ],
   "source": [
    "chunks[2].page_content"
   ]
  },
  {
   "cell_type": "code",
   "execution_count": 38,
   "id": "d47a80d3-3f8f-461a-b1c0-838f952923e7",
   "metadata": {},
   "outputs": [
    {
     "data": {
      "text/plain": [
       "'2 \\n2024 KB 부동산 보고서: 2024년 주택시장 진단과 전망 \\n \\n \\n \\nExecutive Summary 2 \\n\\uf06e 주택 매매시장 하락 전망 우세, 부동산 투자 선호도 하락 \\n• 2024년 주택 매매가격 지난해에 이어 올해도 하락 전망 우세, 높은 금리가 가장 큰 부담 \\n부동산시장 전문가와 공인중개사, 자산관리전문가(PB)를 대상으로 한 설문 조사 결과, 2024년 전국 주택 \\n매매가격은 하락세가 이어질 것이라는 전망이 우세하였다. 다만 시장 급락에 대한 우려는 다소 완화된 \\n것으로 보인다.'"
      ]
     },
     "execution_count": 38,
     "metadata": {},
     "output_type": "execute_result"
    }
   ],
   "source": [
    "chunks[3].page_content"
   ]
  },
  {
   "cell_type": "code",
   "execution_count": 39,
   "id": "260890ba-5235-461f-acaa-5f0549e4a6d8",
   "metadata": {},
   "outputs": [
    {
     "name": "stdout",
     "output_type": "stream",
     "text": [
      "95%로 나눈 청크 개수 :  164\n"
     ]
    }
   ],
   "source": [
    "text_splitter = SemanticChunker(\n",
    "    embeddings=OpenAIEmbeddings(),\n",
    "    breakpoint_threshold_type='percentile',\n",
    "    breakpoint_threshold_amount=95\n",
    ")\n",
    "chunks = text_splitter.split_documents(pages)\n",
    "print('95%로 나눈 청크 개수 : ', len(chunks))"
   ]
  },
  {
   "cell_type": "code",
   "execution_count": 41,
   "id": "33892683-2e1c-4256-bd45-48c6f2697ff1",
   "metadata": {},
   "outputs": [
    {
     "name": "stdout",
     "output_type": "stream",
     "text": [
      "평균 코사인 거리+(3x표준편차)로 나눠진 청크 개수는 :  84\n"
     ]
    }
   ],
   "source": [
    "text_splitter = SemanticChunker(\n",
    "    embeddings=OpenAIEmbeddings(),\n",
    "    breakpoint_threshold_type='standard_deviation',\n",
    "    breakpoint_threshold_amount=3\n",
    ")\n",
    "chunks = text_splitter.split_documents(pages)\n",
    "print('평균 코사인 거리+(3x표준편차)로 나눠진 청크 개수는 : ', len(chunks))"
   ]
  },
  {
   "cell_type": "code",
   "execution_count": 42,
   "id": "0a4e9a02-efca-4b68-82df-139fb0551898",
   "metadata": {},
   "outputs": [
    {
     "name": "stdout",
     "output_type": "stream",
     "text": [
      "Q3+1.5*IQR로 나눠진 청크 개수는 ;  142\n"
     ]
    }
   ],
   "source": [
    "text_splitter = SemanticChunker(\n",
    "    embeddings=OpenAIEmbeddings(),\n",
    "    breakpoint_threshold_type='interquartile',\n",
    "    breakpoint_threshold_amount=1.5\n",
    ")\n",
    "chunks = text_splitter.split_documents(pages)\n",
    "print('Q3+1.5*IQR로 나눠진 청크 개수는 ; ', len(chunks))"
   ]
  }
 ],
 "metadata": {
  "kernelspec": {
   "display_name": "Python 3 (ipykernel)",
   "language": "python",
   "name": "python3"
  },
  "language_info": {
   "codemirror_mode": {
    "name": "ipython",
    "version": 3
   },
   "file_extension": ".py",
   "mimetype": "text/x-python",
   "name": "python",
   "nbconvert_exporter": "python",
   "pygments_lexer": "ipython3",
   "version": "3.11.13"
  }
 },
 "nbformat": 4,
 "nbformat_minor": 5
}
