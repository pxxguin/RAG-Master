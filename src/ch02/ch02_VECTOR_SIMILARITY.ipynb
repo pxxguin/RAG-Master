{
 "cells": [
  {
   "cell_type": "code",
   "execution_count": 1,
   "id": "bcb1eb84-2ca5-4b22-a7d3-763c4c65fdd7",
   "metadata": {},
   "outputs": [],
   "source": [
    "import numpy as np"
   ]
  },
  {
   "cell_type": "code",
   "execution_count": 5,
   "id": "49cdf36b-0a17-4dc4-b160-1911332454d1",
   "metadata": {},
   "outputs": [],
   "source": [
    "def cos_sim(A, B):\n",
    "    return np.dot(A,B)/(np.linalg.norm(A)*np.linalg.norm(B))"
   ]
  },
  {
   "cell_type": "code",
   "execution_count": 6,
   "id": "aa4ce690-79fd-4663-96d1-3e131c3f4216",
   "metadata": {},
   "outputs": [
    {
     "name": "stdout",
     "output_type": "stream",
     "text": [
      "벡터 1과 벡터 2의 cos 유사도 : 0.7071067811865476\n",
      "벡터 1과 벡터 3의 cos 유사도 : 0.7071067811865476\n",
      "벡터 2과 벡터 3의 cos 유사도 : 1.0000000000000002\n"
     ]
    }
   ],
   "source": [
    "vec1 = np.array([0, 1, 1, 1])\n",
    "vec2 = np.array([1, 0, 2, 1])\n",
    "vec3 = np.array([2, 0, 4, 2])\n",
    "print(f'벡터 1과 벡터 2의 cos 유사도 : {cos_sim(vec1, vec2)}')\n",
    "print(f'벡터 1과 벡터 3의 cos 유사도 : {cos_sim(vec1, vec3)}')\n",
    "print(f'벡터 2과 벡터 3의 cos 유사도 : {cos_sim(vec2, vec3)}')"
   ]
  },
  {
   "cell_type": "code",
   "execution_count": null,
   "id": "723afded-f8a7-4fd8-bf8e-96fb299bf830",
   "metadata": {},
   "outputs": [],
   "source": []
  }
 ],
 "metadata": {
  "kernelspec": {
   "display_name": "Python 3 (ipykernel)",
   "language": "python",
   "name": "python3"
  },
  "language_info": {
   "codemirror_mode": {
    "name": "ipython",
    "version": 3
   },
   "file_extension": ".py",
   "mimetype": "text/x-python",
   "name": "python",
   "nbconvert_exporter": "python",
   "pygments_lexer": "ipython3",
   "version": "3.11.13"
  }
 },
 "nbformat": 4,
 "nbformat_minor": 5
}
