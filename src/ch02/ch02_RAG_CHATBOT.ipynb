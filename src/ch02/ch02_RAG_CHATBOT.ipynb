{
 "cells": [
  {
   "cell_type": "code",
   "execution_count": 2,
   "id": "bbb62433-ede6-420a-9d10-39eb064e4cfc",
   "metadata": {},
   "outputs": [],
   "source": [
    "from langchain_chroma import Chroma\n",
    "from langchain_openai import ChatOpenAI, OpenAIEmbeddings\n",
    "from langchain_community.document_loaders import PyPDFLoader\n",
    "from langchain.text_splitter import RecursiveCharacterTextSplitter\n",
    "from langchain_core.prompts import ChatPromptTemplate\n",
    "from langchain.schema.output_parser import StrOutputParser\n",
    "from langchain_core.runnables import RunnablePassthrough, RunnableWithMessageHistory\n",
    "from langchain.memory import ChatMessageHistory"
   ]
  },
  {
   "cell_type": "code",
   "execution_count": 3,
   "id": "1eab7577-63dc-4db3-9f8c-acae2734b42a",
   "metadata": {},
   "outputs": [],
   "source": [
    "# 문서 준비 및 분할"
   ]
  },
  {
   "cell_type": "code",
   "execution_count": 8,
   "id": "622ea77d-c2af-4158-8f24-fd7a41c84bc7",
   "metadata": {},
   "outputs": [
    {
     "name": "stdout",
     "output_type": "stream",
     "text": [
      "분할된 청크의 수 :  135\n"
     ]
    }
   ],
   "source": [
    "loader = PyPDFLoader('../../assets/pdf/2024_KB_부동산_보고서_최종.pdf')\n",
    "documents= loader.load()\n",
    "text_splitter = RecursiveCharacterTextSplitter(chunk_size=1000, chunk_overlap=200)\n",
    "chunks = text_splitter.split_documents(documents)\n",
    "print('분할된 청크의 수 : ', len(chunks))"
   ]
  },
  {
   "cell_type": "code",
   "execution_count": 9,
   "id": "386a11a4-ca70-424d-908f-25e485cc4a08",
   "metadata": {},
   "outputs": [],
   "source": [
    "# 임베딩 생성 및 Chroma 저장"
   ]
  },
  {
   "cell_type": "code",
   "execution_count": 11,
   "id": "4d57c07c-6a44-485f-a765-c32588aa4010",
   "metadata": {},
   "outputs": [
    {
     "name": "stdout",
     "output_type": "stream",
     "text": [
      "문서의 수 :  135\n"
     ]
    }
   ],
   "source": [
    "chroma_db = Chroma.from_documents(\n",
    "    documents=chunks,\n",
    "    embedding=OpenAIEmbeddings(),\n",
    "    persist_directory='../../assets/embedding/ch02/')\n",
    "print('문서의 수 : ', chroma_db._collection.count())"
   ]
  },
  {
   "cell_type": "code",
   "execution_count": 12,
   "id": "8a5ab37b-46aa-4a8d-94a4-aca2b4786627",
   "metadata": {},
   "outputs": [],
   "source": [
    "# 리트리버 생성"
   ]
  },
  {
   "cell_type": "code",
   "execution_count": 13,
   "id": "2834cccb-7fa3-46e3-8628-07f6a50f25c6",
   "metadata": {},
   "outputs": [],
   "source": [
    "retriever = chroma_db.as_retriever(search_kwargs={'k':3})"
   ]
  },
  {
   "cell_type": "code",
   "execution_count": 14,
   "id": "c26b5115-cbf3-4a0b-bade-14040e4b2da2",
   "metadata": {},
   "outputs": [],
   "source": [
    "# 프롬프트 템플릿 설정"
   ]
  },
  {
   "cell_type": "code",
   "execution_count": 17,
   "id": "aa290e63-8ccc-402e-980c-365d47fae1ea",
   "metadata": {},
   "outputs": [],
   "source": [
    "template = \"\"\"\n",
    "당신은 KB 부동산 보고서 전문가입니다. 다음 정보를 바탕으로 사용자의 질문에 답변해주세요.\n",
    "컨텍스트 : {context}\n",
    "\"\"\"\n",
    "prompt = ChatPromptTemplate.from_messages(\n",
    "    [\n",
    "        ('system', template),\n",
    "        ('placeholder', '{chat_history}'),\n",
    "        ('human', '{question}')\n",
    "    ]\n",
    ")\n",
    "model = ChatOpenAI(model_name='gpt-4o-mini', temperature=0)"
   ]
  },
  {
   "cell_type": "code",
   "execution_count": 18,
   "id": "d7356d32-9d3b-4d90-83f8-be842a475503",
   "metadata": {},
   "outputs": [
    {
     "name": "stdout",
     "output_type": "stream",
     "text": [
      "System: \n",
      "당신은 KB 부동산 보고서 전문가입니다. 다음 정보를 바탕으로 사용자의 질문에 답변해주세요.\n",
      "컨텍스트 : 컨텍스트 예시\n",
      "\n",
      "Human: 대화 기록 예시 1\n",
      "Human: 대화 기록 예시 2\n",
      "Human: 질문 예시\n"
     ]
    }
   ],
   "source": [
    "print(prompt.format(context='컨텍스트 예시',\n",
    "                    chat_history=['대화 기록 예시 1', '대화 기록 예시 2'],\n",
    "                    question='질문 예시'))"
   ]
  },
  {
   "cell_type": "code",
   "execution_count": 21,
   "id": "788c516c-43f8-4c65-90bd-946ca5e01d1c",
   "metadata": {},
   "outputs": [],
   "source": [
    "# 참고 파일 하나로"
   ]
  },
  {
   "cell_type": "code",
   "execution_count": 19,
   "id": "91a3263f-2c96-4d09-865a-0434d8a45a54",
   "metadata": {},
   "outputs": [],
   "source": [
    "def format_docs(docs):\n",
    "    return \"\\n\\n\".join(doc.page_content for doc in docs)"
   ]
  },
  {
   "cell_type": "code",
   "execution_count": 20,
   "id": "a2c1f781-2089-4a7e-bdcb-681279830baf",
   "metadata": {},
   "outputs": [],
   "source": [
    "# 체인 구성"
   ]
  },
  {
   "cell_type": "code",
   "execution_count": 22,
   "id": "74f42df5-4198-4a4c-a652-3ba0c66543f5",
   "metadata": {},
   "outputs": [],
   "source": [
    "chain = (\n",
    "    RunnablePassthrough.assign(\n",
    "        context=lambda x: format_docs(retriever.invoke(x['question']))\n",
    "    )\n",
    "    | prompt\n",
    "    | model\n",
    "    | StrOutputParser()\n",
    ")"
   ]
  },
  {
   "cell_type": "code",
   "execution_count": 23,
   "id": "2774b297-b1e1-4078-9092-76915ca74504",
   "metadata": {},
   "outputs": [],
   "source": [
    "# 대화 기록 및 메모리 설정"
   ]
  },
  {
   "cell_type": "code",
   "execution_count": 30,
   "id": "f6821fd2-e626-48a6-aff1-59f8fc1b84ff",
   "metadata": {},
   "outputs": [],
   "source": [
    "chat_history = ChatMessageHistory()\n",
    "chain_with_memory = RunnableWithMessageHistory(\n",
    "    chain,\n",
    "    lambda session_id: chat_history,\n",
    "    input_messages_key='question',\n",
    "    history_messages_key='chat_history'\n",
    ")"
   ]
  },
  {
   "cell_type": "code",
   "execution_count": 31,
   "id": "2e82822a-b42d-4510-8e1d-9fa63c21547c",
   "metadata": {},
   "outputs": [],
   "source": [
    "# 챗봇 실행 함수 정의"
   ]
  },
  {
   "cell_type": "code",
   "execution_count": 32,
   "id": "b8a476db-a706-407b-8047-fbaa74f3d883",
   "metadata": {},
   "outputs": [],
   "source": [
    "def chat_with_bot():\n",
    "    session_id='user_session'\n",
    "    print('KB 부동산 보고서 챗봇입니다. 질문해주세요! (종료하시려면 \"quit\" 입력)')\n",
    "    while True:\n",
    "        user_input = input('사용자 : ')\n",
    "        if user_input.lower() == 'quit':\n",
    "            break\n",
    "        response = chain_with_memory.invoke(\n",
    "            {'question':user_input},\n",
    "            {'configurable':{'session_id':session_id}}\n",
    "        )\n",
    "\n",
    "        print('챗봇 : ', response)"
   ]
  },
  {
   "cell_type": "code",
   "execution_count": 33,
   "id": "fd237f69-666d-485f-9ddd-9d084803611e",
   "metadata": {},
   "outputs": [
    {
     "name": "stdout",
     "output_type": "stream",
     "text": [
      "KB 부동산 보고서 챗봇입니다. 질문해주세요! (종료하시려면 \"quit\" 입력)\n"
     ]
    },
    {
     "name": "stdin",
     "output_type": "stream",
     "text": [
      "사용자 :  랭체인 챗봇 만들기에 대해 실습중입니다.\n"
     ]
    },
    {
     "name": "stdout",
     "output_type": "stream",
     "text": [
      "챗봇 :  랭체인 챗봇을 만들기 위한 실습을 진행 중이시군요! 랭체인(LangChain)은 자연어 처리(NLP)와 관련된 다양한 작업을 수행할 수 있는 강력한 프레임워크입니다. 챗봇을 만들기 위해 다음과 같은 단계를 고려해 보세요:\n",
      "\n",
      "1. **환경 설정**:\n",
      "   - Python과 필요한 라이브러리(예: `langchain`, `openai`, `flask` 등)를 설치합니다.\n",
      "   - API 키(예: OpenAI API 키)를 준비합니다.\n",
      "\n",
      "2. **기본 구조 설계**:\n",
      "   - 챗봇의 기본 구조를 설계합니다. 사용자 입력을 받고, 이를 처리하여 응답을 생성하는 흐름을 정의합니다.\n",
      "\n",
      "3. **LangChain 사용**:\n",
      "   - LangChain의 기능을 활용하여 자연어 처리 모델을 설정합니다. 예를 들어, OpenAI의 GPT 모델을 사용할 수 있습니다.\n",
      "   - LangChain의 `LLMChain`을 사용하여 입력을 처리하고 응답을 생성하는 로직을 구현합니다.\n",
      "\n",
      "4. **대화 관리**:\n",
      "   - 대화의 맥락을 유지하기 위해 대화 상태를 관리하는 방법을 고려합니다. 예를 들어, 이전 대화 내용을 저장하고 이를 기반으로 응답을 생성할 수 있습니다.\n",
      "\n",
      "5. **테스트 및 개선**:\n",
      "   - 챗봇을 테스트하여 사용자와의 상호작용을 확인합니다. 피드백을 바탕으로 개선할 부분을 찾아 수정합니다.\n",
      "\n",
      "6. **배포**:\n",
      "   - 챗봇을 웹 애플리케이션으로 배포하거나, 메신저 플랫폼(예: Slack, Discord 등)에 통합할 수 있습니다.\n",
      "\n",
      "이러한 단계를 통해 랭체인 챗봇을 성공적으로 만들 수 있을 것입니다. 구체적인 코드나 예제가 필요하시면 말씀해 주세요!\n"
     ]
    },
    {
     "name": "stdin",
     "output_type": "stream",
     "text": [
      "사용자 :  방금 제가 뭐라고 했나요?\n"
     ]
    },
    {
     "name": "stdout",
     "output_type": "stream",
     "text": [
      "챗봇 :  당신은 \"랭체인 챗봇 만들기에 대해 실습중입니다.\"라고 말씀하셨습니다. 랭체인 챗봇을 만들기 위한 실습을 진행하고 계신 것에 대해 언급하셨습니다. 추가로 궁금한 점이나 도움이 필요하신 부분이 있으시면 말씀해 주세요!\n"
     ]
    },
    {
     "name": "stdin",
     "output_type": "stream",
     "text": [
      "사용자 :  수도권 주택 매매 전망\n"
     ]
    },
    {
     "name": "stdout",
     "output_type": "stream",
     "text": [
      "챗봇 :  2024 KB 부동산 보고서에 따르면, 수도권 주택시장은 전반적으로 침체 상태에 있으며, 특히 강남권과 같은 선호 지역에서는 상대적으로 강세를 보이고 있습니다. 다음은 수도권 주택 매매 전망에 대한 주요 내용입니다:\n",
      "\n",
      "1. **거래 회복의 어려움**: 높은 기준금리와 주택 매매가격, DSR(총부채상환비율) 규제 등으로 인해 매수자들의 구매 여력이 회복되지 않고 있습니다. 매도자와 매수자 간의 희망가격 차이가 여전히 존재하여 거래가 원활하게 이루어지지 않고 있습니다.\n",
      "\n",
      "2. **정부 규제 완화**: 2023년 이후 정부의 다양한 규제 완화가 이루어졌지만, 이는 매도자들의 기대 심리를 높이는 데 그치고 있습니다. 재건축 규제 완화와 같은 호재가 있지만, 전반적인 주택 경기 위축 요소도 여전히 존재합니다.\n",
      "\n",
      "3. **지역별 차별화**: 수도권 내에서도 지역별로 매매 시장의 차별화가 나타나고 있습니다. 예를 들어, 강남구는 정부 규제 완화와 주택 수요 집중으로 긍정적인 기대감을 유지하고 있는 반면, 양천구는 매매시장 위축이 지속되고 있습니다.\n",
      "\n",
      "4. **전세 시장과의 연관성**: 전세가격 하락이 매매시장에 미치는 영향도 고려해야 합니다. 대규모 단지의 입주가 예정되어 있는 지역에서는 전세가격 하락이 매매에 영향을 줄 수 있습니다.\n",
      "\n",
      "5. **전반적인 전망**: 하반기 이후 거래 침체 현상이 다소 완화될 가능성이 있지만, 전반적인 회복세는 제한적일 것으로 보입니다. 매도자와 매수자 간의 가격 격차 축소와 매수세 회복이 중요합니다.\n",
      "\n",
      "이러한 요소들을 종합적으로 고려할 때, 수도권 주택 매매 시장은 여전히 불확실성이 크고, 지역별로 상이한 상황이 전개될 것으로 예상됩니다. 추가적인 질문이 있으시면 말씀해 주세요!\n"
     ]
    },
    {
     "name": "stdin",
     "output_type": "stream",
     "text": [
      "사용자 :  노후계획도시가 어디인지 궁금해\n"
     ]
    },
    {
     "name": "stdout",
     "output_type": "stream",
     "text": [
      "챗봇 :  노후계획도시는 주로 1기 신도시를 포함한 지역들로, 1980년대 말에 대규모로 건설된 주택 단지들입니다. 2024 KB 부동산 보고서에 따르면, 노후계획도시 특별법의 적용을 받는 주요 지역은 다음과 같습니다:\n",
      "\n",
      "1. **분당** (경기도 성남시)\n",
      "2. **일산** (경기도 고양시)\n",
      "3. **평촌** (경기도 안양시)\n",
      "4. **산본** (경기도 군포시)\n",
      "5. **중동** (경기도 부천시)\n",
      "\n",
      "이들 지역은 조성된 지 20년 이상 경과하여 재정비가 필요한 상황이며, 노후계획도시 특별법에 따라 정비사업 규제가 완화될 예정입니다. 이 법안은 2024년 4월 27일부터 시행될 예정이며, 해당 지역의 재건축 및 정비사업에 긍정적인 영향을 미칠 것으로 기대되고 있습니다. 추가적인 질문이 있으시면 언제든지 말씀해 주세요!\n"
     ]
    },
    {
     "name": "stdin",
     "output_type": "stream",
     "text": [
      "사용자 :  quit\n"
     ]
    }
   ],
   "source": [
    "chat_with_bot()"
   ]
  }
 ],
 "metadata": {
  "kernelspec": {
   "display_name": "Python 3 (ipykernel)",
   "language": "python",
   "name": "python3"
  },
  "language_info": {
   "codemirror_mode": {
    "name": "ipython",
    "version": 3
   },
   "file_extension": ".py",
   "mimetype": "text/x-python",
   "name": "python",
   "nbconvert_exporter": "python",
   "pygments_lexer": "ipython3",
   "version": "3.11.13"
  }
 },
 "nbformat": 4,
 "nbformat_minor": 5
}
