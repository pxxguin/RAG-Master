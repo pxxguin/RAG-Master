{
 "cells": [
  {
   "cell_type": "code",
   "execution_count": 1,
   "id": "c1c274d4-bca0-4850-8dbf-8df29c394adf",
   "metadata": {},
   "outputs": [],
   "source": [
    "# Json Parser loaded"
   ]
  },
  {
   "cell_type": "code",
   "execution_count": 3,
   "id": "66c5b043-ba36-488d-8509-e48525bca6d2",
   "metadata": {},
   "outputs": [
    {
     "data": {
      "text/plain": [
       "'Return a JSON object.'"
      ]
     },
     "execution_count": 3,
     "metadata": {},
     "output_type": "execute_result"
    }
   ],
   "source": [
    "from langchain_core.output_parsers import JsonOutputParser\n",
    "parser = JsonOutputParser()\n",
    "parser.get_format_instructions()"
   ]
  },
  {
   "cell_type": "code",
   "execution_count": 4,
   "id": "3a9b1f62-4c19-4031-8ddb-62f12856a87e",
   "metadata": {},
   "outputs": [],
   "source": [
    "# Retry Parser"
   ]
  },
  {
   "cell_type": "code",
   "execution_count": 21,
   "id": "159b285f-029d-462f-813c-706076aba544",
   "metadata": {},
   "outputs": [],
   "source": [
    "from langchain.output_parsers import RetryWithErrorOutputParser\n",
    "from langchain_openai import ChatOpenAI\n",
    "from langchain_core.prompts import PromptTemplate\n",
    "parser = RetryWithErrorOutputParser.from_llm(parser=JsonOutputParser(), llm=ChatOpenAI())"
   ]
  },
  {
   "cell_type": "code",
   "execution_count": 22,
   "id": "af111d6a-38e5-4251-aa6a-f862b2815c4b",
   "metadata": {},
   "outputs": [
    {
     "name": "stdout",
     "output_type": "stream",
     "text": [
      "오류 발생: 'str' object has no attribute 'to_string'\n"
     ]
    }
   ],
   "source": [
    "question = \"가장 큰 대륙은?\"\n",
    "ai_response = \"아시아입니다.\"\n",
    "\n",
    "try:\n",
    "    result = parser.parse_with_prompt(ai_response, question)\n",
    "    print(result)\n",
    "except Exception as e:\n",
    "    print(f\"오류 발생: {e}\")"
   ]
  },
  {
   "cell_type": "code",
   "execution_count": 23,
   "id": "e91760cf-d93d-406e-8545-89a38e408f88",
   "metadata": {},
   "outputs": [],
   "source": [
    "# pydantic"
   ]
  },
  {
   "cell_type": "code",
   "execution_count": 24,
   "id": "4b0435e4-07fa-470c-ab03-cf27b5aa3def",
   "metadata": {},
   "outputs": [],
   "source": [
    "from langchain_core.output_parsers import PydanticOutputParser\n",
    "from pydantic import BaseModel, Field, model_validator"
   ]
  },
  {
   "cell_type": "code",
   "execution_count": 25,
   "id": "cc6522e2-b886-4261-8a0d-a33f3db2b824",
   "metadata": {},
   "outputs": [],
   "source": [
    "model = ChatOpenAI(model='gpt-4o', temperature=0.0)"
   ]
  },
  {
   "cell_type": "code",
   "execution_count": 30,
   "id": "f9561fb3-a20a-4c58-979d-39ae935067f6",
   "metadata": {},
   "outputs": [
    {
     "name": "stdout",
     "output_type": "stream",
     "text": [
      "setup='부동산 투자에 관심이 있습니다. 현재 시장 상황을 고려할 때, 부동산에 투자하는 것이 좋은 선택일까요?' advice='부동산 투자는 장기적인 관점에서 안정적인 수익을 제공할 수 있지만, 시장 상황에 따라 변동성이 있을 수 있습니다. 현재 금리, 지역 경제 성장 전망, 부동산 가격 추세 등을 고려하여 투자 결정을 내리는 것이 중요합니다. 전문가와 상담하여 포트폴리오를 다각화하고 리스크를 관리하는 전략을 세우는 것이 좋습니다.'\n"
     ]
    }
   ],
   "source": [
    "class FinancialAdvice(BaseModel):\n",
    "    setup: str = Field(description=\"금융 조언 상황을 설정하기 위한 질문\")\n",
    "    advice: str = Field(description=\"질문을 해결하기 위한 금융 답변\")\n",
    "    @model_validator(mode=\"before\")\n",
    "    @classmethod\n",
    "    def question_ends_with_question_mark(cls, values: dict)->dict:\n",
    "        setup = values.get('setup', '')\n",
    "        if not setup.endswith('?'):\n",
    "            raise ValueError('잘못된 질문 형식입니다! 질문은 \"?\"로 끝나야 합니다.')\n",
    "        return values\n",
    "parser = PydanticOutputParser(pydantic_object=FinancialAdvice)\n",
    "prompt = PromptTemplate(\n",
    "    template=\"다음 금융 관련 질문에 답변해 주세요.\\n{format_instructions}\\n질문:{query}\\n\",\n",
    "    input_variables=['query'],\n",
    "    partial_variables={'format_instructions':parser.get_format_instructions()}\n",
    ")\n",
    "chain = prompt|model|StrOutputParser()|parser\n",
    "\n",
    "try:\n",
    "    result = chain.invoke({'query':'부동산에 관련하여 금융 조언을 받을 수 있게 질문하라'})\n",
    "    print(result)\n",
    "except Exception as e:\n",
    "    print(f'오류 발생 : {e}')"
   ]
  },
  {
   "cell_type": "code",
   "execution_count": 35,
   "id": "44dac5ea-4893-4fea-964e-40895d162132",
   "metadata": {},
   "outputs": [
    {
     "name": "stdout",
     "output_type": "stream",
     "text": [
      "question='코딩에서 발생하는 오류를 어떻게 디버깅하고 해결할 수 있을까요?' advice='오류 메시지를 잘 읽고, 문제가 발생하는 코드 주위를 주의 깊게 살펴보세요. 주석을 추가하거나 출력문을 사용하여 프로그램의 흐름을 추적하고, 각 변수의 값이 예상대로인지 확인하세요. 또한, Google이나 Stack Overflow에서 유사한 문제를 검색해 보는 것도 좋은 방법입니다.'\n"
     ]
    }
   ],
   "source": [
    "class CodingAdvice(BaseModel):\n",
    "    question: str = Field(description=\"코딩 초보자 상황에서 오류를 해결하기 위한 질문\")\n",
    "    advice: str = Field(description=\"질문을 해결하기 위한 기술적인 답변\")\n",
    "    @model_validator(mode='before')\n",
    "    @classmethod\n",
    "    def question_ends_with_question_mark(cls, values: dict)->dict:\n",
    "        question = values.get('question', '')\n",
    "        if not question.endswith('?'):\n",
    "            raise ValueError('잘못된 질물 형식입니다! 질문은 \"?\"로 끝나야합니다.')\n",
    "        return values\n",
    "parser = PydanticOutputParser(pydantic_object=CodingAdvice)\n",
    "prompt = PromptTemplate(\n",
    "    template=\"다음 코딩 관련 질문에 답변해주세요.\\n{format_instruction}\\n질문:{query}\\n\",\n",
    "    input_variables=['query'],\n",
    "    partial_variables={'format_instruction':parser.get_format_instructions}\n",
    ")\n",
    "chain = prompt|ChatOpenAI(model='gpt-4o-mini')|StrOutputParser()|parser\n",
    "try:\n",
    "    result = chain.invoke({'query':'코딩에 관련하여 오류를 해결받기 위한 조언을 받을 수 있게 질문하라'})\n",
    "    print(result)\n",
    "except Exception as e:\n",
    "    print(f'오류 발생 : {e}')"
   ]
  },
  {
   "cell_type": "code",
   "execution_count": 42,
   "id": "791d868a-085f-4665-be04-91b120005e57",
   "metadata": {},
   "outputs": [],
   "source": [
    "# SimpleJsonOutputParser"
   ]
  },
  {
   "cell_type": "code",
   "execution_count": 36,
   "id": "fadcdb05-f186-4063-96a2-98bc8d66364f",
   "metadata": {},
   "outputs": [],
   "source": [
    "from langchain.output_parsers.json import SimpleJsonOutputParser\n",
    "json_prompt = PromptTemplate.from_template('다음 질문에 대한 답변이 포함된 JSON 객체를 반환하십시오: {question}')\n",
    "json_parser = SimpleJsonOutputParser()\n",
    "json_chain = json_prompt|model|json_parser"
   ]
  },
  {
   "cell_type": "code",
   "execution_count": 41,
   "id": "7f11537b-61dd-4af8-8091-72f2a9b334b1",
   "metadata": {},
   "outputs": [
    {
     "name": "stdout",
     "output_type": "stream",
     "text": [
      "{}\n",
      "{'description': ''}\n",
      "{'description': '비'}\n",
      "{'description': '비트'}\n",
      "{'description': '비트코'}\n",
      "{'description': '비트코인은'}\n",
      "{'description': '비트코인은 분'}\n",
      "{'description': '비트코인은 분산'}\n",
      "{'description': '비트코인은 분산된'}\n",
      "{'description': '비트코인은 분산된 디'}\n",
      "{'description': '비트코인은 분산된 디지털'}\n",
      "{'description': '비트코인은 분산된 디지털 화'}\n",
      "{'description': '비트코인은 분산된 디지털 화폐'}\n",
      "{'description': '비트코인은 분산된 디지털 화폐로'}\n",
      "{'description': '비트코인은 분산된 디지털 화폐로,'}\n",
      "{'description': '비트코인은 분산된 디지털 화폐로, 중앙'}\n",
      "{'description': '비트코인은 분산된 디지털 화폐로, 중앙 기관'}\n",
      "{'description': '비트코인은 분산된 디지털 화폐로, 중앙 기관 없이'}\n",
      "{'description': '비트코인은 분산된 디지털 화폐로, 중앙 기관 없이 개인'}\n",
      "{'description': '비트코인은 분산된 디지털 화폐로, 중앙 기관 없이 개인 간'}\n",
      "{'description': '비트코인은 분산된 디지털 화폐로, 중앙 기관 없이 개인 간의'}\n",
      "{'description': '비트코인은 분산된 디지털 화폐로, 중앙 기관 없이 개인 간의 거래'}\n",
      "{'description': '비트코인은 분산된 디지털 화폐로, 중앙 기관 없이 개인 간의 거래를'}\n",
      "{'description': '비트코인은 분산된 디지털 화폐로, 중앙 기관 없이 개인 간의 거래를 가능'}\n",
      "{'description': '비트코인은 분산된 디지털 화폐로, 중앙 기관 없이 개인 간의 거래를 가능하게'}\n",
      "{'description': '비트코인은 분산된 디지털 화폐로, 중앙 기관 없이 개인 간의 거래를 가능하게 합니다'}\n",
      "{'description': '비트코인은 분산된 디지털 화폐로, 중앙 기관 없이 개인 간의 거래를 가능하게 합니다.'}\n"
     ]
    }
   ],
   "source": [
    "for i in json_chain.stream({'question':'비트코인에 대한 잛은 한 문장 설명.'}):\n",
    "    print(i)"
   ]
  },
  {
   "cell_type": "code",
   "execution_count": 43,
   "id": "1dd89e4a-1bbb-4e32-973b-7e8fda0adbc6",
   "metadata": {},
   "outputs": [],
   "source": [
    "# JsonOutputParser"
   ]
  },
  {
   "cell_type": "code",
   "execution_count": 44,
   "id": "b8af7f4b-45bb-4669-86a1-d791417b96f8",
   "metadata": {},
   "outputs": [],
   "source": [
    "from langchain_core.output_parsers import JsonOutputParser\n",
    "model = ChatOpenAI(temperature=0)"
   ]
  },
  {
   "cell_type": "code",
   "execution_count": 45,
   "id": "cb1c89e6-d6ba-4ae6-aec4-a4eb3f9bbbcd",
   "metadata": {},
   "outputs": [],
   "source": [
    "class FinancialAdvice(BaseModel):\n",
    "    setup: str = Field(description='금융 조언 상황을 설정하기 위한 질문')\n",
    "    advice: str = Field(description='질문을 해결하기 위한 금융 답변')"
   ]
  },
  {
   "cell_type": "code",
   "execution_count": 46,
   "id": "81d559bd-8ac9-4a25-909f-0da8179b4787",
   "metadata": {},
   "outputs": [],
   "source": [
    "parser = JsonOutputParser(pydantic_object=FinancialAdvice)\n",
    "prompt = PromptTemplate(\n",
    "    template='다음 금융 관련 질문에 답변해 주세요.\\n{format_instructions}\\n{query}\\n',\n",
    "    input_variables=['query'],\n",
    "    partial_variables={'format_instructions':parser.get_format_instructions()},\n",
    ")"
   ]
  },
  {
   "cell_type": "code",
   "execution_count": 47,
   "id": "017ebe21-c6ca-4417-b1f7-433c92406c36",
   "metadata": {},
   "outputs": [
    {
     "data": {
      "text/plain": [
       "{'setup': '부동산 투자를 위해 어떤 금융 상품을 활용하는 것이 좋을까요?',\n",
       " 'advice': '부동산 투자를 위해는 부동산 투자 전문가와 상담하고, 금융 상품으로는 부동산 투자 전용 대출을 고려해보세요. 또한 부동산 투자에 따른 세금 혜택과 리스크 관리에 대해도 충분히 고려해야 합니다.'}"
      ]
     },
     "execution_count": 47,
     "metadata": {},
     "output_type": "execute_result"
    }
   ],
   "source": [
    "chain = prompt | model | parser\n",
    "chain.invoke({'query':'부동산에 관련하여 금융 조언을 받을 수 있게 질문하라.'})"
   ]
  }
 ],
 "metadata": {
  "kernelspec": {
   "display_name": "Python 3 (ipykernel)",
   "language": "python",
   "name": "python3"
  },
  "language_info": {
   "codemirror_mode": {
    "name": "ipython",
    "version": 3
   },
   "file_extension": ".py",
   "mimetype": "text/x-python",
   "name": "python",
   "nbconvert_exporter": "python",
   "pygments_lexer": "ipython3",
   "version": "3.11.9"
  }
 },
 "nbformat": 4,
 "nbformat_minor": 5
}
