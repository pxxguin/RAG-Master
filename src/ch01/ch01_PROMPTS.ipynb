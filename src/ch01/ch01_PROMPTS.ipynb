{
 "cells": [
  {
   "cell_type": "code",
   "execution_count": 1,
   "id": "144a3ffc-48fc-451d-816e-4a1e755646a8",
   "metadata": {},
   "outputs": [],
   "source": [
    "# Literal prompt template"
   ]
  },
  {
   "cell_type": "code",
   "execution_count": 2,
   "id": "9e57c3ef-77ea-49e5-9197-1a52b71cea25",
   "metadata": {},
   "outputs": [
    {
     "data": {
      "text/plain": [
       "StringPromptValue(text='투자에 대해 금융 관련 짧은 조언을 해주세요.')"
      ]
     },
     "execution_count": 2,
     "metadata": {},
     "output_type": "execute_result"
    }
   ],
   "source": [
    "from langchain_core.prompts import PromptTemplate\n",
    "prompt = PromptTemplate.from_template('{topic}에 대해 금융 관련 짧은 조언을 해주세요.')\n",
    "prompt.invoke({'topic':'투자'})"
   ]
  },
  {
   "cell_type": "code",
   "execution_count": 3,
   "id": "751ed4fb-671c-4442-a34b-21e7706520bd",
   "metadata": {},
   "outputs": [],
   "source": [
    "# Chat prompt template"
   ]
  },
  {
   "cell_type": "code",
   "execution_count": 6,
   "id": "06e40736-f67d-469d-972f-fa1deaf70830",
   "metadata": {},
   "outputs": [
    {
     "data": {
      "text/plain": [
       "ChatPromptValue(messages=[SystemMessage(content='당신은 유능한 금융 조언가입니다.', additional_kwargs={}, response_metadata={}), HumanMessage(content='주식에 대해 금융 관련 조언을 해주세요.', additional_kwargs={}, response_metadata={})])"
      ]
     },
     "execution_count": 6,
     "metadata": {},
     "output_type": "execute_result"
    }
   ],
   "source": [
    "from langchain_core.prompts import ChatPromptTemplate\n",
    "prompt = ChatPromptTemplate.from_messages([\n",
    "    ('system', '당신은 유능한 금융 조언가입니다.'),\n",
    "    ('user', '{topic}에 대해 금융 관련 조언을 해주세요.')\n",
    "])\n",
    "prompt.invoke({'topic':'주식'})"
   ]
  },
  {
   "cell_type": "code",
   "execution_count": 7,
   "id": "1e20127d-2e5a-49bd-be96-b4b0c1399793",
   "metadata": {},
   "outputs": [],
   "source": [
    "# message Holder"
   ]
  },
  {
   "cell_type": "code",
   "execution_count": 8,
   "id": "1363ddf5-2e21-4233-972a-80bb6cca7dad",
   "metadata": {},
   "outputs": [
    {
     "data": {
      "text/plain": [
       "ChatPromptValue(messages=[SystemMessage(content='당신은 유능한 금융 조언가입니다.', additional_kwargs={}, response_metadata={}), HumanMessage(content='안녕하세요!', additional_kwargs={}, response_metadata={})])"
      ]
     },
     "execution_count": 8,
     "metadata": {},
     "output_type": "execute_result"
    }
   ],
   "source": [
    "from langchain_core.prompts import MessagesPlaceholder\n",
    "from langchain_core.messages import HumanMessage\n",
    "prompt = ChatPromptTemplate.from_messages([\n",
    "    ('system', '당신은 유능한 금융 조언가입니다.'),\n",
    "    MessagesPlaceholder('msgs')\n",
    "])\n",
    "prompt.invoke({'msgs':[HumanMessage(content='안녕하세요!')]})"
   ]
  },
  {
   "cell_type": "code",
   "execution_count": 9,
   "id": "c02ba7d1-332a-4312-bbee-1ae469efe917",
   "metadata": {},
   "outputs": [
    {
     "data": {
      "text/plain": [
       "ChatPromptValue(messages=[SystemMessage(content='당신은 유능한 금융 조언가입니다.', additional_kwargs={}, response_metadata={}), HumanMessage(content='안녕하세요!', additional_kwargs={}, response_metadata={})])"
      ]
     },
     "execution_count": 9,
     "metadata": {},
     "output_type": "execute_result"
    }
   ],
   "source": [
    "prompt = ChatPromptTemplate.from_messages([\n",
    "    ('system', '당신은 유능한 금융 조언가입니다.'),\n",
    "    ('placeholder', '{msgs}')\n",
    "])\n",
    "prompt.invoke({'msgs':[HumanMessage(content='안녕하세요!')]})"
   ]
  },
  {
   "cell_type": "code",
   "execution_count": 10,
   "id": "11a77183-ac8c-487b-95cc-8e199701d510",
   "metadata": {},
   "outputs": [],
   "source": [
    "# Fewshot prompt"
   ]
  },
  {
   "cell_type": "code",
   "execution_count": 12,
   "id": "b3405da5-0359-4e0b-85ad-5f757f2ab67c",
   "metadata": {},
   "outputs": [],
   "source": [
    "example_prompt = PromptTemplate.from_template('질문 : {question}\\n답번 : {answer}')\n",
    "examples = [\n",
    "    {\n",
    "        'question':'주식 투자와 예금 중 어느 것이 더 수익률이 높은가?',\n",
    "        'answer':'''\n",
    "        후속 질문이 필요한가요: 네.\n",
    "        후속 질문: 주식 투자의 평균 수익률은 얼마인가요?\n",
    "        중간 답번: 주식 투자의 평균 수익률은 연 7%입니다.\n",
    "        후속 질문: 예금의 평균 이자율은 얼마인가요?\n",
    "        중간 답번: 예금의 평균 이자율은 연 1%입니다.\n",
    "        따라서 최종 답변은: 주식 투자\n",
    "        ''',\n",
    "    },\n",
    "    {\n",
    "        'question':'부동산과 채권 중 어느 것이 더 안정적인 투자처인가?',\n",
    "        'answer':'''\n",
    "        후속 질문이 필요한가요: 네.\n",
    "        후속 질문: 부동산 투자의 위험도는 어느 정도인가요?\n",
    "        중간 질문: 부동산 투자의 위험도는 중간 수준입니다.\n",
    "        후속 질문: 채권의 위험도는 어느 정도인가요?\n",
    "        중간 질문: 채권의 위험도는 낮은 편입니다.\n",
    "        따라서 최종 답변은: 채권\n",
    "        '''\n",
    "    },\n",
    "]"
   ]
  },
  {
   "cell_type": "code",
   "execution_count": 13,
   "id": "440337b3-c7fb-44e5-9255-c5b8f333dd99",
   "metadata": {},
   "outputs": [
    {
     "name": "stdout",
     "output_type": "stream",
     "text": [
      "질문 : 주식 투자와 예금 중 어느 것이 더 수익률이 높은가?\n",
      "답번 : \n",
      "        후속 질문이 필요한가요: 네.\n",
      "        후속 질문: 주식 투자의 평균 수익률은 얼마인가요?\n",
      "        중간 답번: 주식 투자의 평균 수익률은 연 7%입니다.\n",
      "        후속 질문: 예금의 평균 이자율은 얼마인가요?\n",
      "        중간 답번: 예금의 평균 이자율은 연 1%입니다.\n",
      "        따라서 최종 답변은: 주식 투자\n",
      "        \n"
     ]
    }
   ],
   "source": [
    "print(example_prompt.invoke(examples[0]).to_string())"
   ]
  },
  {
   "cell_type": "code",
   "execution_count": 15,
   "id": "8c28a0ba-6ff4-4d1d-ba50-773149b64cc4",
   "metadata": {},
   "outputs": [
    {
     "name": "stdout",
     "output_type": "stream",
     "text": [
      "질문 : 주식 투자와 예금 중 어느 것이 더 수익률이 높은가?\n",
      "답번 : \n",
      "        후속 질문이 필요한가요: 네.\n",
      "        후속 질문: 주식 투자의 평균 수익률은 얼마인가요?\n",
      "        중간 답번: 주식 투자의 평균 수익률은 연 7%입니다.\n",
      "        후속 질문: 예금의 평균 이자율은 얼마인가요?\n",
      "        중간 답번: 예금의 평균 이자율은 연 1%입니다.\n",
      "        따라서 최종 답변은: 주식 투자\n",
      "        \n",
      "\n",
      "질문 : 부동산과 채권 중 어느 것이 더 안정적인 투자처인가?\n",
      "답번 : \n",
      "        후속 질문이 필요한가요: 네.\n",
      "        후속 질문: 부동산 투자의 위험도는 어느 정도인가요?\n",
      "        중간 질문: 부동산 투자의 위험도는 중간 수준입니다.\n",
      "        후속 질문: 채권의 위험도는 어느 정도인가요?\n",
      "        중간 질문: 채권의 위험도는 낮은 편입니다.\n",
      "        따라서 최종 답변은: 채권\n",
      "        \n",
      "\n",
      "질문: 부동산 투자의 장점은 무엇인가?\n"
     ]
    }
   ],
   "source": [
    "from langchain_core.prompts import FewShotPromptTemplate\n",
    "prompt = FewShotPromptTemplate(\n",
    "    examples=examples,\n",
    "    example_prompt=example_prompt,\n",
    "    suffix='질문: {input}',\n",
    "    input_variables=['input'],\n",
    ")\n",
    "print(prompt.invoke({'input':'부동산 투자의 장점은 무엇인가?'}).to_string())"
   ]
  },
  {
   "cell_type": "code",
   "execution_count": 21,
   "id": "664a2476-4727-4a5c-a48c-1bcc610f9155",
   "metadata": {},
   "outputs": [],
   "source": [
    "from langchain_chroma import Chroma\n",
    "from langchain_core.example_selectors import SemanticSimilarityExampleSelector\n",
    "from langchain_openai import OpenAIEmbeddings\n",
    "from dotenv import load_dotenv\n",
    "import os"
   ]
  },
  {
   "cell_type": "code",
   "execution_count": 23,
   "id": "d772ba5c-8d8a-46c1-b302-24f6d054e375",
   "metadata": {},
   "outputs": [],
   "source": [
    "load_dotenv()\n",
    "example_selector = SemanticSimilarityExampleSelector.from_examples(\n",
    "    examples,\n",
    "    OpenAIEmbeddings(api_key=os.getenv('OPENAI_API_KEY')),\n",
    "    Chroma,\n",
    "    k=1,\n",
    ")"
   ]
  },
  {
   "cell_type": "code",
   "execution_count": 24,
   "id": "320a5cd4-f10c-474a-8e40-678ccffb513e",
   "metadata": {},
   "outputs": [],
   "source": [
    "question = '부동산 투자의 장점은 무엇인가?'\n",
    "selected_examples = example_selector.select_examples({'question':question})"
   ]
  },
  {
   "cell_type": "code",
   "execution_count": 25,
   "id": "b0a72d5f-be5f-4c4f-ab06-7024c89126fa",
   "metadata": {},
   "outputs": [
    {
     "name": "stdout",
     "output_type": "stream",
     "text": [
      "입력된 질문 ; 부동산 투자의 장점은 무엇인가?\n",
      "[{'question': '부동산과 채권 중 어느 것이 더 안정적인 투자처인가?', 'answer': '\\n        후속 질문이 필요한가요: 네.\\n        후속 질문: 부동산 투자의 위험도는 어느 정도인가요?\\n        중간 질문: 부동산 투자의 위험도는 중간 수준입니다.\\n        후속 질문: 채권의 위험도는 어느 정도인가요?\\n        중간 질문: 채권의 위험도는 낮은 편입니다.\\n        따라서 최종 답변은: 채권\\n        '}]\n"
     ]
    }
   ],
   "source": [
    "print(f'입력된 질문 ; {question}')\n",
    "print(selected_examples)"
   ]
  },
  {
   "cell_type": "code",
   "execution_count": 30,
   "id": "37f4443e-1eef-44f2-9b9b-591eb51684d0",
   "metadata": {},
   "outputs": [
    {
     "name": "stdout",
     "output_type": "stream",
     "text": [
      "# 입력과 가장 유사한 예제는?\n",
      "question:부동산과 채권 중 어느 것이 더 안정적인 투자처인가?\n",
      "answer:\n",
      "        후속 질문이 필요한가요: 네.\n",
      "        후속 질문: 부동산 투자의 위험도는 어느 정도인가요?\n",
      "        중간 질문: 부동산 투자의 위험도는 중간 수준입니다.\n",
      "        후속 질문: 채권의 위험도는 어느 정도인가요?\n",
      "        중간 질문: 채권의 위험도는 낮은 편입니다.\n",
      "        따라서 최종 답변은: 채권\n",
      "        \n"
     ]
    }
   ],
   "source": [
    "for i in selected_examples:\n",
    "    print('# 입력과 가장 유사한 예제는?')\n",
    "    for k, v in i.items():\n",
    "        print(f'{k}:{v}')"
   ]
  },
  {
   "cell_type": "code",
   "execution_count": 31,
   "id": "9d4a9653-3348-47f6-9ee6-dd76c7045e3c",
   "metadata": {},
   "outputs": [],
   "source": [
    "# Real useage"
   ]
  },
  {
   "cell_type": "code",
   "execution_count": 32,
   "id": "5ae89ba2-32c4-4f5f-b240-6b46d3c14768",
   "metadata": {},
   "outputs": [],
   "source": [
    "example_prompt = PromptTemplate(\n",
    "    input_variables=['question', 'answer'],\n",
    "    template='질문: {question}\\n답변: {answer}')"
   ]
  },
  {
   "cell_type": "code",
   "execution_count": 34,
   "id": "0613d6ca-8c79-43d0-9aba-d9950f9a0cbd",
   "metadata": {},
   "outputs": [],
   "source": [
    "prompt = FewShotPromptTemplate(\n",
    "    example_selector=example_selector,\n",
    "    example_prompt=example_prompt,\n",
    "    prefix=\"다음은 금융 관련 질문과 답변의 예입니다:\",\n",
    "    suffix=\"질문: {input}\\n답변:\",\n",
    "    input_variables=['input']\n",
    ")"
   ]
  },
  {
   "cell_type": "code",
   "execution_count": 35,
   "id": "ee4165f4-0928-4e19-be9a-515a0e47716c",
   "metadata": {},
   "outputs": [
    {
     "name": "stdout",
     "output_type": "stream",
     "text": [
      "content='부동산 투자의 장점에 대해 설명드리겠습니다:\\n\\n1. **안정적인 수익**: 부동산은 임대 수익과 자산 가치 상승을 통해 안정적인 현금 흐름을 제공할 수 있습니다.\\n\\n2. **물가 상승 방어**: 부동산은 인플레이션에 대한 방어 역할을 합니다. 시간이 지남에 따라 자산 가치와 임대료가 물가 상승에 맞춰 상승할 가능성이 높습니다.\\n\\n3. **자산의 실물성**: 부동산은 실물 자산으로, 손에 잡히지 않는 금융 자산과는 달리 물리적으로 존재하는 자산입니다. 이는 투자자에게 심리적 안정을 줄 수 있습니다.\\n\\n4. **자산 다변화**: 포트폴리오에 부동산을 포함시키면 자산 다변화 효과를 통해 전반적인 투자 위험을 줄일 수 있습니다.\\n\\n5. **세금 혜택**: 각국 정부는 부동산 투자자에게 다양한 세금 이점을 제공하기도 합니다. 예를 들어, 이자 비용 또는 감가상각비를 공제할 수 있는 기회가 있을 수 있습니다.\\n\\n이러한 이점들은 부동산이 매력적인 투자 옵션으로 작용하도록 만듭니다. 다만, 부동산 투자에는 지역, 시장 상황, 관리 요구 사항 등 고려할 사항이 많으므로 신중한 접근이 필요합니다.' additional_kwargs={'refusal': None} response_metadata={'token_usage': {'completion_tokens': 312, 'prompt_tokens': 151, 'total_tokens': 463, 'completion_tokens_details': {'accepted_prediction_tokens': 0, 'audio_tokens': 0, 'reasoning_tokens': 0, 'rejected_prediction_tokens': 0}, 'prompt_tokens_details': {'audio_tokens': 0, 'cached_tokens': 0}}, 'model_name': 'gpt-4o-2024-08-06', 'system_fingerprint': 'fp_ff25b2783a', 'id': 'chatcmpl-C3H2eO5YnG8J3EaGdsBbmCQuJ6xJh', 'service_tier': 'default', 'finish_reason': 'stop', 'logprobs': None} id='run--cd0fddf8-e837-45a4-aa2f-b0e683781964-0' usage_metadata={'input_tokens': 151, 'output_tokens': 312, 'total_tokens': 463, 'input_token_details': {'audio': 0, 'cache_read': 0}, 'output_token_details': {'audio': 0, 'reasoning': 0}}\n"
     ]
    }
   ],
   "source": [
    "from langchain_openai import ChatOpenAI\n",
    "model = ChatOpenAI(model='gpt-4o')\n",
    "chain = prompt|model\n",
    "response = chain.invoke({'input':'부동산 투자의 장점은 무엇인가?'})\n",
    "print(response)"
   ]
  },
  {
   "cell_type": "code",
   "execution_count": 36,
   "id": "9d08343a-bf1d-4e0a-bedb-d6ffe3f7e892",
   "metadata": {},
   "outputs": [],
   "source": [
    "# hub connect"
   ]
  },
  {
   "cell_type": "code",
   "execution_count": 37,
   "id": "93181bc8-2026-4bf0-b6da-5d0a6b50d1a7",
   "metadata": {},
   "outputs": [],
   "source": [
    "from langchain import hub"
   ]
  },
  {
   "cell_type": "code",
   "execution_count": 38,
   "id": "3548d15f-192a-4a87-8ebf-54b21bbcf255",
   "metadata": {},
   "outputs": [
    {
     "name": "stderr",
     "output_type": "stream",
     "text": [
      "/Users/janghongseo/PycharmProjects/RAG-Master/.venv/lib/python3.11/site-packages/langsmith/client.py:272: LangSmithMissingAPIKeyWarning: API key must be provided when using hosted LangSmith API\n",
      "  warnings.warn(\n"
     ]
    },
    {
     "data": {
      "text/plain": [
       "ChatPromptTemplate(input_variables=['lazy_prompt', 'task'], input_types={}, partial_variables={}, metadata={'lc_hub_owner': 'hardkothari', 'lc_hub_repo': 'prompt-maker', 'lc_hub_commit_hash': 'c5db8eeefa7be4862a9599b759608dd10ee53f53910838f69abb5ab31c257c2d'}, messages=[SystemMessagePromptTemplate(prompt=PromptTemplate(input_variables=[], input_types={}, partial_variables={}, template='You are an expert Prompt Writer for Large Language Models.\\n\\n'), additional_kwargs={}), HumanMessagePromptTemplate(prompt=PromptTemplate(input_variables=['lazy_prompt', 'task'], input_types={}, partial_variables={}, template='Your goal is to improve the prompt given below for {task} :\\n--------------------\\n\\nPrompt: {lazy_prompt}\\n\\n--------------------\\n\\nHere are several tips on writing great prompts:\\n\\n-------\\n\\nStart the prompt by stating that it is an expert in the subject.\\n\\nPut instructions at the beginning of the prompt and use ### or to separate the instruction and context \\n\\nBe specific, descriptive and as detailed as possible about the desired context, outcome, length, format, style, etc \\n\\n---------\\n\\nHere\\'s an example of a great prompt:\\n\\nAs a master YouTube content creator, develop an engaging script that revolves around the theme of \"Exploring Ancient Ruins.\"\\n\\nYour script should encompass exciting discoveries, historical insights, and a sense of adventure.\\n\\nInclude a mix of on-screen narration, engaging visuals, and possibly interactions with co-hosts or experts.\\n\\nThe script should ideally result in a video of around 10-15 minutes, providing viewers with a captivating journey through the secrets of the past.\\n\\nExample:\\n\\n\"Welcome back, fellow history enthusiasts, to our channel! Today, we embark on a thrilling expedition...\"\\n\\n-----\\n\\nNow, improve the prompt.\\n\\nIMPROVED PROMPT:'), additional_kwargs={})])"
      ]
     },
     "execution_count": 38,
     "metadata": {},
     "output_type": "execute_result"
    }
   ],
   "source": [
    "prompt = hub.pull('hardkothari/prompt-maker')\n",
    "prompt"
   ]
  }
 ],
 "metadata": {
  "kernelspec": {
   "display_name": "Python 3 (ipykernel)",
   "language": "python",
   "name": "python3"
  },
  "language_info": {
   "codemirror_mode": {
    "name": "ipython",
    "version": 3
   },
   "file_extension": ".py",
   "mimetype": "text/x-python",
   "name": "python",
   "nbconvert_exporter": "python",
   "pygments_lexer": "ipython3",
   "version": "3.11.9"
  }
 },
 "nbformat": 4,
 "nbformat_minor": 5
}
