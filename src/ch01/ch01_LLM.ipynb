{
 "cells": [
  {
   "cell_type": "code",
   "execution_count": 1,
   "id": "2159bfd0-520d-4d3b-ac25-4de9be1c28ee",
   "metadata": {},
   "outputs": [],
   "source": [
    "import os\n",
    "from typing import List\n",
    "from dotenv import load_dotenv\n",
    "from openai import OpenAI"
   ]
  },
  {
   "cell_type": "code",
   "execution_count": 3,
   "id": "6dadc2ba-758f-4582-b5f2-f2a8d5b5964a",
   "metadata": {},
   "outputs": [],
   "source": [
    "# env file loaded\n",
    "load_dotenv()\n",
    "\n",
    "# api-key setting\n",
    "api_key = os.getenv('OPENAI_API_KEY')\n",
    "\n",
    "# client initialize\n",
    "client = OpenAI(api_key=api_key)"
   ]
  },
  {
   "cell_type": "code",
   "execution_count": 4,
   "id": "88e61395-a893-41af-886f-d18e848f3b71",
   "metadata": {},
   "outputs": [],
   "source": [
    "response = client.chat.completions.create(\n",
    "    model='gpt-4o-mini',\n",
    "    messages=[{'role':'user',\n",
    "               'content':'Who is OpenAI CEO?'}])"
   ]
  },
  {
   "cell_type": "code",
   "execution_count": 5,
   "id": "b31c1393-8238-4a7f-85e2-f133c74c5cc8",
   "metadata": {},
   "outputs": [
    {
     "data": {
      "text/plain": [
       "'As of my last update in October 2023, Sam Altman is the CEO of OpenAI. Please verify with up-to-date sources, as leadership positions can change.'"
      ]
     },
     "execution_count": 5,
     "metadata": {},
     "output_type": "execute_result"
    }
   ],
   "source": [
    "response.choices[0].message.content"
   ]
  },
  {
   "cell_type": "code",
   "execution_count": 22,
   "id": "7f5c9327-be36-4885-b94a-f373f18036f7",
   "metadata": {},
   "outputs": [],
   "source": [
    "prompt_template = '{topic}에 대해 짧은 설명을 해주세요.'"
   ]
  },
  {
   "cell_type": "code",
   "execution_count": 23,
   "id": "777db109-0ec2-4be2-9926-b4d0a93cc437",
   "metadata": {},
   "outputs": [],
   "source": [
    "def call_chat_model(messages: List[dict]):\n",
    "    response = client.chat.completions.create(\n",
    "        model='gpt-4o-mini',\n",
    "        messages=messages,\n",
    "        temperature=0\n",
    "    )\n",
    "    return response.choices[0].message.content"
   ]
  },
  {
   "cell_type": "code",
   "execution_count": 24,
   "id": "9d88001d-0982-4816-b1fa-e79165e7e9fd",
   "metadata": {},
   "outputs": [],
   "source": [
    "def invoke_chain(topic: str):\n",
    "    prompt_value = prompt_template.format(topic=topic)\n",
    "    messages = [{'role':'user', 'content':prompt_value}]\n",
    "    return call_chat_model(messages=messages)"
   ]
  },
  {
   "cell_type": "code",
   "execution_count": 25,
   "id": "a15ae0f5-f3d6-4661-8111-4f9ef096c09f",
   "metadata": {},
   "outputs": [
    {
     "data": {
      "text/plain": [
       "'파인튜닝(fine-tuning)은 사전 훈련된 모델을 특정 작업이나 데이터셋에 맞게 조정하는 과정입니다. 일반적으로 대규모 데이터로 훈련된 모델을 기반으로 하여, 적은 양의 데이터로 추가 훈련을 진행함으로써 모델의 성능을 향상시키는 방법입니다. 이 과정은 주로 전이 학습(transfer learning)에서 사용되며, 특정 도메인이나 과제에 대한 적합성을 높이는 데 효과적입니다. 파인튜닝을 통해 모델은 새로운 데이터의 특성을 더 잘 반영할 수 있게 됩니다.'"
      ]
     },
     "execution_count": 25,
     "metadata": {},
     "output_type": "execute_result"
    }
   ],
   "source": [
    "invoke_chain('파인튜닝')"
   ]
  },
  {
   "cell_type": "code",
   "execution_count": 26,
   "id": "85a5f700-009d-4ed6-bf2f-7fba8abc967b",
   "metadata": {},
   "outputs": [],
   "source": [
    "from langchain_openai import ChatOpenAI\n",
    "from langchain_core.prompts import ChatPromptTemplate\n",
    "from langchain_core.output_parsers import StrOutputParser\n",
    "from langchain_core.runnables import RunnablePassthrough"
   ]
  },
  {
   "cell_type": "code",
   "execution_count": 38,
   "id": "d265d377-3983-4ecb-9382-8b0b45b6f234",
   "metadata": {},
   "outputs": [],
   "source": [
    "prompt = ChatPromptTemplate.from_template(\n",
    "    \"{topic}에 대해 짧은 설명을 해주세요.\"\n",
    ")"
   ]
  },
  {
   "cell_type": "code",
   "execution_count": 33,
   "id": "f383a46d-47d6-41d8-af5f-ed6c6a729688",
   "metadata": {},
   "outputs": [],
   "source": [
    "output_parser = StrOutputParser()\n",
    "model = ChatOpenAI(model='gpt-4o', api_key=api_key)"
   ]
  },
  {
   "cell_type": "code",
   "execution_count": 42,
   "id": "4955fc7f-7bfb-46e8-bab4-fc3d46e5678c",
   "metadata": {},
   "outputs": [],
   "source": [
    "chain = (\n",
    "    {'topic':RunnablePassthrough()}\n",
    "    | prompt\n",
    "    | model\n",
    "    | output_parser\n",
    ")"
   ]
  },
  {
   "cell_type": "code",
   "execution_count": 40,
   "id": "5456b540-779a-4d88-ac46-08e197ef5e00",
   "metadata": {},
   "outputs": [
    {
     "data": {
      "text/plain": [
       "'파인튜닝(Fine-tuning)은 이미 학습된 모델을 새로운 데이터셋이나 특정 작업에 맞게 추가적으로 학습시키는 과정입니다. 일반적으로 큰 데이터셋에서 사전 학습된 모델을 활용하여 초기 가중치를 설정한 다음, 그 모델을 특정 도메인이나 더 좁은 범위의 데이터를 사용해 다시 학습시킵니다. 이를 통해 모델은 새로운 작업에 맞춤화된 성능을 보이며, 초기 학습보다 적은 자원과 시간으로 더 좋은 결과를 얻을 수 있습니다. 파인튜닝은 자연어 처리, 이미지 인식 등 다양한 분야에서 활용됩니다.'"
      ]
     },
     "execution_count": 40,
     "metadata": {},
     "output_type": "execute_result"
    }
   ],
   "source": [
    "chain.invoke('파인튜닝')"
   ]
  }
 ],
 "metadata": {
  "kernelspec": {
   "display_name": "Python 3 (ipykernel)",
   "language": "python",
   "name": "python3"
  },
  "language_info": {
   "codemirror_mode": {
    "name": "ipython",
    "version": 3
   },
   "file_extension": ".py",
   "mimetype": "text/x-python",
   "name": "python",
   "nbconvert_exporter": "python",
   "pygments_lexer": "ipython3",
   "version": "3.11.9"
  }
 },
 "nbformat": 4,
 "nbformat_minor": 5
}
