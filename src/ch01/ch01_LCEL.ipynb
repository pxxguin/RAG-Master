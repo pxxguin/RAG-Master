{
 "cells": [
  {
   "cell_type": "code",
   "execution_count": 1,
   "id": "2d38ef79-91e5-4846-9c74-0ce388880a38",
   "metadata": {},
   "outputs": [],
   "source": [
    "from langchain_openai import ChatOpenAI\n",
    "from langchain_core.prompts import ChatPromptTemplate\n",
    "from langchain_core.output_parsers import StrOutputParser"
   ]
  },
  {
   "cell_type": "code",
   "execution_count": 2,
   "id": "2d2a612f-e4ad-4521-8e62-ab8289f4fbad",
   "metadata": {},
   "outputs": [],
   "source": [
    "model = ChatOpenAI(model='gpt-4o-mini')"
   ]
  },
  {
   "cell_type": "code",
   "execution_count": 3,
   "id": "39d662e6-9431-4f9e-95a7-9c73b34cb853",
   "metadata": {},
   "outputs": [],
   "source": [
    "prompt = ChatPromptTemplate.from_template('{topic}에 대해 짧을 설명을 해주세요.')\n",
    "parser = StrOutputParser()\n",
    "chain = prompt | model | parser"
   ]
  },
  {
   "cell_type": "code",
   "execution_count": 4,
   "id": "2de5f15e-4bc7-4c00-86db-914feecc3b2c",
   "metadata": {},
   "outputs": [
    {
     "data": {
      "text/plain": [
       "'파인튜닝(Fine-tuning)은 이미 학습된 모델을 특정 과제나 데이터셋에 맞게 조정하는 프로세스를 말합니다. 주로 대규모 데이터로 사전 학습된 모델(예: 딥러닝 모델)을 사용하여, 적은 양의 도메인 특화된 데이터로 추가 학습을 진행합니다. 이를 통해 모델이 특정 작업에서 더 높은 성능을 발휘할 수 있도록 합니다. 파인튜닝은 특히 NLP나 컴퓨터 비전 분야에서 많이 활용됩니다.'"
      ]
     },
     "execution_count": 4,
     "metadata": {},
     "output_type": "execute_result"
    }
   ],
   "source": [
    "chain.invoke({'topic':'파인튜닝'})"
   ]
  },
  {
   "cell_type": "code",
   "execution_count": 6,
   "id": "18e89150-0147-48d9-b9ff-1f7acaa1d843",
   "metadata": {},
   "outputs": [
    {
     "data": {
      "text/plain": [
       "['파인튜닝(fine-tuning)은 이미 학습된 모델을 특정 작업이나 데이터셋에 맞춰 추가로 학습시키는 과정을 말합니다. 일반적으로 대규모 데이터로 사전학습된 모델을 사용하여, 새로운 데이터셋에 대해 성능을 향상시키기 위해서 이루어집니다. 이 과정에서는 전체 네트워크를 다시 학습시킬 수도 있지만, 주로 마지막 몇 개의 층만 조정하거나, 학습률을 낮춰서 세밀하게 조정합니다. 파인튜닝은 더 적은 데이터로도 높은 성능을 달성할 수 있는 방법으로 많이 활용됩니다.',\n",
       " '머신러닝은 데이터를 이용해 컴퓨터가 자동으로 학습하고 예측하거나 결정을 내리는 기술입니다. 일반적으로 알고리즘을 사용해 데이터에서 패턴을 인식하고, 이를 기반으로 새로운 데이터에 대한 예측을 수행합니다. 머신러닝은 주로 감독 학습, 비감독 학습, 강화 학습의 세 가지 주요 유형으로 나뉘며, 이미지 인식, 자연어 처리, 추천 시스템 등 다양한 분야에 활용되고 있습니다.']"
      ]
     },
     "execution_count": 6,
     "metadata": {},
     "output_type": "execute_result"
    }
   ],
   "source": [
    "chain.batch([{'topic':'파인튜닝'}, {'topic':'머신러닝'}])"
   ]
  },
  {
   "cell_type": "code",
   "execution_count": 9,
   "id": "a2b3145a-f048-4ed9-8fc2-a5d106a4050a",
   "metadata": {},
   "outputs": [
    {
     "name": "stdout",
     "output_type": "stream",
     "text": [
      "파인튜닝(fine-tuning)은 사전 학습된 모델을 특정 작업이나 데이터셋에 맞추어 최적화하는 과정입니다. 일반적으로 대규모 데이터에서 학습된 모델을 기반으로 하여, 새로운 데이터셋에 대해 몇 가지 추가적인 학습(iteration)을 통해 모델의 성능을 향상시키는 방법입니다. 파인튜닝은 보통 전체 모델을 재학습하는 것보다 적은 데이터와 시간으로 높은 성능을 달성할 수 있게 해줍니다. 주로 자연어 처리, 컴퓨터 비전 등 다양한 분야에서 활용됩니다."
     ]
    }
   ],
   "source": [
    "for token in chain.stream({'topic':'파인튜닝'}):\n",
    "    print(token, end='', flush=True)"
   ]
  },
  {
   "cell_type": "code",
   "execution_count": 10,
   "id": "147e2dba-21dc-47dc-ac32-e5e5f25c102a",
   "metadata": {},
   "outputs": [],
   "source": [
    "analysis_prompt = ChatPromptTemplate.from_template('이 대답을 영어로 번역해주세요. {answer}')"
   ]
  },
  {
   "cell_type": "code",
   "execution_count": 20,
   "id": "e4620020-c7a1-492a-9a01-4a5ee22ded27",
   "metadata": {},
   "outputs": [],
   "source": [
    "composed_chain = {'answer':chain}|analysis_prompt|model|StrOutputParser()"
   ]
  },
  {
   "cell_type": "code",
   "execution_count": 18,
   "id": "caeb0710-87e0-4c5f-987b-dc1694dea887",
   "metadata": {},
   "outputs": [
    {
     "data": {
      "text/plain": [
       "'Fine-tuning refers to the process of adjusting a pre-trained model to better fit a specific task or domain. The initial model learns general patterns from a large amount of data, and then it is trained further by modifying only a few parameters or adding new data to improve performance on a specific dataset or problem. This allows for higher performance while using resources more efficiently. Fine-tuning is widely used in various fields, such as natural language processing (NLP) and computer vision.'"
      ]
     },
     "execution_count": 18,
     "metadata": {},
     "output_type": "execute_result"
    }
   ],
   "source": [
    "composed_chain.invoke({'topic':'파인튜닝'})"
   ]
  },
  {
   "cell_type": "code",
   "execution_count": 21,
   "id": "0c794e15-63a6-43d3-b46c-42e20c2b3a8c",
   "metadata": {},
   "outputs": [],
   "source": [
    "# 만약 자동으로 영어로 생성된 문장을 한국어로 번역하고 싶다!"
   ]
  },
  {
   "cell_type": "code",
   "execution_count": 31,
   "id": "76b8bf30-858a-446a-82d4-3620a0f257cc",
   "metadata": {},
   "outputs": [],
   "source": [
    "prompt = ChatPromptTemplate.from_template('Explain about {topic} shortly')\n",
    "model = ChatOpenAI(model='gpt-4o-mini')\n",
    "chain = prompt|model|StrOutputParser()"
   ]
  },
  {
   "cell_type": "code",
   "execution_count": 32,
   "id": "d21eef14-c307-43c5-84d6-a3d410d611fc",
   "metadata": {},
   "outputs": [],
   "source": [
    "change_to_kor = ChatPromptTemplate.from_template('Change given answer to Korean. {answer}')\n",
    "adapted_chain = {'answer':chain}|change_to_kor|model|StrOutputParser()"
   ]
  },
  {
   "cell_type": "code",
   "execution_count": 33,
   "id": "3a847c6a-408b-445c-80bc-311880de8678",
   "metadata": {},
   "outputs": [
    {
     "data": {
      "text/plain": [
       "'파인튜닝은 머신러닝 및 자연어 처리에서 사용되는 전이 학습 기법으로, 미리 훈련된 모델을 특정 데이터셋에서 추가 훈련하여 특정 작업에 적응시키거나 성능을 향상시키는 과정입니다. 이 방법은 모델이 초기 훈련을 통해 대규모 데이터셋에서 획득한 지식을 활용하여, 적은 데이터와 계산 자원으로 작업에 특화된 특성을 학습할 수 있게 합니다. 파인튜닝은 일반적으로 모델의 일부 매개변수를 조정하는 것이며, 다른 매개변수는 고정한 상태로 두어 새로운 작업의 성능을 최적화합니다.'"
      ]
     },
     "execution_count": 33,
     "metadata": {},
     "output_type": "execute_result"
    }
   ],
   "source": [
    "adapted_chain.invoke({'topic':'Fine-tuning'})"
   ]
  },
  {
   "cell_type": "code",
   "execution_count": 34,
   "id": "ecb9ee59-5b34-429e-af5e-429eed8bfe15",
   "metadata": {},
   "outputs": [],
   "source": [
    "# Use lambda"
   ]
  },
  {
   "cell_type": "code",
   "execution_count": 36,
   "id": "bd10c166-2645-4cab-a62c-8c53fdc77d09",
   "metadata": {},
   "outputs": [
    {
     "data": {
      "text/plain": [
       "'Double Dip refers to a phenomenon in the economy or stock market where it seems to recover after a downturn, only to fall back into another recession. In other words, it signifies a situation where the economy briefly recovers but then once again returns to a poor state. This can occur due to an unstable economic recovery or external factors. In the stock market, a double dip can increase uncertainty for investors and compel them to readjust their investment strategies.'"
      ]
     },
     "execution_count": 36,
     "metadata": {},
     "output_type": "execute_result"
    }
   ],
   "source": [
    "prompt = ChatPromptTemplate.from_template('{topic}에 대해서 짧은 설명을 해주세요.')\n",
    "model = ChatOpenAI(model='gpt-4o-mini')\n",
    "chain = prompt|model|StrOutputParser()\n",
    "analysis_prompt = ChatPromptTemplate.from_template('이 대답을 영어로 번역해주세요. {answer}')\n",
    "composed_chain_with_lambda = (\n",
    "    chain\n",
    "    | (lambda input: {'answer':input})\n",
    "    | analysis_prompt\n",
    "    | model\n",
    "    | StrOutputParser()\n",
    ")\n",
    "composed_chain_with_lambda.invoke({'topic':'더블딥'})"
   ]
  },
  {
   "cell_type": "code",
   "execution_count": 37,
   "id": "4f5a2246-fd81-4ef2-95fa-968157d106ba",
   "metadata": {},
   "outputs": [
    {
     "data": {
      "text/plain": [
       "'\"Double Dip\" refers to a phenomenon in economics where a recession occurs, followed by a temporary recovery, and then the economy falls back into another recession. Generally, it describes a situation where the economy declines twice, with a recovery beginning at the first trough, but further declines may occur due to various internal and external factors. This phenomenon poses significant challenges for investors and policymakers.'"
      ]
     },
     "execution_count": 37,
     "metadata": {},
     "output_type": "execute_result"
    }
   ],
   "source": [
    "composed_chain = {'answer':chain}|analysis_prompt|model|StrOutputParser()\n",
    "composed_chain.invoke({'topic':'더블딥'})"
   ]
  },
  {
   "cell_type": "code",
   "execution_count": 38,
   "id": "1456c926-99f6-4ae8-ac33-c2d5018c40ef",
   "metadata": {},
   "outputs": [],
   "source": [
    "# pipe method"
   ]
  },
  {
   "cell_type": "code",
   "execution_count": 39,
   "id": "d0bea17e-228c-4b6c-8151-e73a1a5ce264",
   "metadata": {},
   "outputs": [
    {
     "data": {
      "text/plain": [
       "'A double dip refers to a situation in the economy or financial markets where two recessions occur. Typically, after the first recession, there is a temporary recovery, followed by a subsequent slowdown or recession in the economy. This is a scenario that concerns investors and economic analysts, as it may happen when economic recovery is unstable or not sustained. A double dip is often indicated by rising unemployment rates and declining consumer confidence, and it may necessitate a reassessment of economic policies.'"
      ]
     },
     "execution_count": 39,
     "metadata": {},
     "output_type": "execute_result"
    }
   ],
   "source": [
    "composed_chain_with_pipe = (\n",
    "    chain.pipe(lambda input: {'answer':input}).pipe(analysis_prompt).pipe(model).pipe(StrOutputParser()))\n",
    "composed_chain_with_pipe.invoke({'topic':'더블딥'})"
   ]
  },
  {
   "cell_type": "code",
   "execution_count": 40,
   "id": "b0728c8e-599e-4c16-853b-a7f310cc75f9",
   "metadata": {},
   "outputs": [
    {
     "data": {
      "text/plain": [
       "'\"Double Dip\" is a term primarily used in economics or finance to describe a situation where there is a temporary recovery following a recession, but the economy then slips back into another downturn. This phenomenon typically occurs when the economic growth rate experiences two declines, representing a W-shaped recovery instead of a V-shaped one. A double dip can lead to greater uncertainty for investors and policymakers.'"
      ]
     },
     "execution_count": 40,
     "metadata": {},
     "output_type": "execute_result"
    }
   ],
   "source": [
    "composed_chain_with_pipe = chain.pipe(lambda input: {'answer':input}, analysis_prompt, model, StrOutputParser())\n",
    "composed_chain_with_pipe.invoke({'topic':'더블딥'})"
   ]
  },
  {
   "cell_type": "code",
   "execution_count": 41,
   "id": "6a182101-21cd-4b57-b996-ae9bc9b25338",
   "metadata": {},
   "outputs": [],
   "source": [
    "# RunnableParellel useage"
   ]
  },
  {
   "cell_type": "code",
   "execution_count": 42,
   "id": "bf1c7091-469b-4298-bd23-971a4da825e1",
   "metadata": {},
   "outputs": [],
   "source": [
    "from langchain_core.runnables import RunnableParallel"
   ]
  },
  {
   "cell_type": "code",
   "execution_count": 47,
   "id": "3925a4b4-cc4e-4f76-87fd-a79834846033",
   "metadata": {},
   "outputs": [
    {
     "name": "stdout",
     "output_type": "stream",
     "text": [
      "한글 설명 : 더블딥(Double Dip)은 경제학에서 사용되는 용어로, 경기 침체 후 회복이 잠시 이루어졌다가 다시 또 침체되는 경우를 가리킵니다. 즉, 경제가 약한 회복세를 보이다가 다시 하락하는 구조를 의미합니다. 이는 일반적으로 불확실한 경제 환경이나 소비자 신뢰도의 저하 등으로 인해 발생할 수 있습니다. 더블딥은 투자자와 정책 입안자에게 큰 도전이 될 수 있습니다.\n",
      "영어 설명 ; A double dip refers to a situation where an economy experiences two separate contractions or downturns in a relatively short period, following a brief recovery. It commonly describes a recession that leads to a brief recovery, only to be followed by another recession. This phenomenon can create significant uncertainty and challenges for businesses and policymakers.\n"
     ]
    }
   ],
   "source": [
    "model = ChatOpenAI(model='gpt-4o-mini')\n",
    "kor_chain = ChatPromptTemplate.from_template('{topic}에 대해 짧은 설명을 해주세요.')|model|StrOutputParser()\n",
    "eng_chain = ChatPromptTemplate.from_template('{topic}에 대해 짧게 영어로 설명을 해주세요.')|model|StrOutputParser()\n",
    "\n",
    "parellel_chain = RunnableParallel(kor=kor_chain, eng=eng_chain)\n",
    "result = parellel_chain.invoke({'topic':'더블딥'})\n",
    "print('한글 설명 : {}'.format(result['kor']))\n",
    "print('영어 설명 ; {}'.format(result['eng']))"
   ]
  }
 ],
 "metadata": {
  "kernelspec": {
   "display_name": "Python 3 (ipykernel)",
   "language": "python",
   "name": "python3"
  },
  "language_info": {
   "codemirror_mode": {
    "name": "ipython",
    "version": 3
   },
   "file_extension": ".py",
   "mimetype": "text/x-python",
   "name": "python",
   "nbconvert_exporter": "python",
   "pygments_lexer": "ipython3",
   "version": "3.11.9"
  }
 },
 "nbformat": 4,
 "nbformat_minor": 5
}
