{
 "cells": [
  {
   "cell_type": "code",
   "execution_count": 1,
   "id": "46774124-32b5-49f0-9ddc-5798c9fc07fb",
   "metadata": {},
   "outputs": [],
   "source": [
    "# 지금부터 서울대학교 수강신청 챗봇을 구현할 것"
   ]
  },
  {
   "cell_type": "code",
   "execution_count": 39,
   "id": "6a0bb489-79c7-499e-bc87-7848fcee62e3",
   "metadata": {},
   "outputs": [],
   "source": [
    "from langchain_openai import ChatOpenAI, OpenAIEmbeddings\n",
    "from langchain_chroma import Chroma\n",
    "from langchain.text_splitter import RecursiveCharacterTextSplitter\n",
    "from langchain_community.document_loaders import PyPDFLoader\n",
    "from langchain_core.prompts import ChatPromptTemplate\n",
    "from langchain_core.runnables import RunnableWithMessageHistory, RunnablePassthrough\n",
    "from langchain_core.output_parsers import StrOutputParser\n",
    "from langchain.memory import ChatMessageHistory"
   ]
  },
  {
   "cell_type": "code",
   "execution_count": 25,
   "id": "485e3c27-cae9-49fb-8048-453cf066ef83",
   "metadata": {},
   "outputs": [
    {
     "name": "stdout",
     "output_type": "stream",
     "text": [
      "청크 수 :  79\n"
     ]
    }
   ],
   "source": [
    "# 1. pdf 불러오기\n",
    "loader = PyPDFLoader('../../assets/pdf/ch02_review/광운대_졸업하기.pdf')\n",
    "documents = loader.load()\n",
    "text_splitter = RecursiveCharacterTextSplitter(chunk_size=200, chunk_overlap=40)\n",
    "chunks = text_splitter.split_documents(documents)\n",
    "print('청크 수 : ', len(chunks))"
   ]
  },
  {
   "cell_type": "code",
   "execution_count": 27,
   "id": "81aee7f7-4545-4859-a9cb-842b8e8c9a76",
   "metadata": {},
   "outputs": [],
   "source": [
    "# 임베딩 벡터로 저장하기\n",
    "chroma_db = Chroma.from_documents(\n",
    "    documents=chunks,\n",
    "    embedding=OpenAIEmbeddings(),\n",
    "    persist_directory='../../assets/embedding/ch02_review/')"
   ]
  },
  {
   "cell_type": "code",
   "execution_count": 32,
   "id": "ace62b75-27d0-4b62-9f4d-f547030f38ec",
   "metadata": {},
   "outputs": [
    {
     "name": "stdout",
     "output_type": "stream",
     "text": [
      "문서의 수 :  79\n"
     ]
    }
   ],
   "source": [
    "# 문서 수 확인\n",
    "print('문서의 수 : ', chroma_db._collection.count())\n",
    "# 관련된 내용 3개 찾기\n",
    "retriever = chroma_db.as_retriever(search_kwargs={'k':3})"
   ]
  },
  {
   "cell_type": "code",
   "execution_count": 35,
   "id": "dd6b66ea-46a4-43c5-9232-e273b2d45733",
   "metadata": {},
   "outputs": [],
   "source": [
    "template = \"\"\"\n",
    "당신은 광운대학교 학생들이 졸업을 할 수 있도록 도와주는 매니저입니다. 다음 정보를 바탕으로 사용자의 질문에 답변해주세요.\n",
    "Context: {context}\n",
    "\"\"\"\n",
    "# 프롬프트 작성\n",
    "prompt = ChatPromptTemplate.from_messages(\n",
    "    [\n",
    "        ('system', template),\n",
    "        ('placeholder', '{chat_history}'),\n",
    "        ('user', '{question}')\n",
    "    ]\n",
    ")\n",
    "model = ChatOpenAI(model='gpt-4o', temperature=0.0)"
   ]
  },
  {
   "cell_type": "code",
   "execution_count": 34,
   "id": "f02fe784-87c9-4059-938c-fa3addeb64cf",
   "metadata": {},
   "outputs": [],
   "source": [
    "# 중요한 정보를 이어붙이는 함수 선언\n",
    "def concatDocs(docs):\n",
    "    return \"\\n\\n\".join(doc.page_content for doc in docs)"
   ]
  },
  {
   "cell_type": "code",
   "execution_count": 38,
   "id": "0fd44273-8dde-4c00-bdf1-5521859e6206",
   "metadata": {},
   "outputs": [],
   "source": [
    "chain = (\n",
    "    RunnablePassthrough.assign(\n",
    "        context=lambda x: concatDocs(retriever.invoke(x['question']))\n",
    "    )|\n",
    "    prompt|\n",
    "    model|\n",
    "    StrOutputParser()\n",
    ")"
   ]
  },
  {
   "cell_type": "code",
   "execution_count": 40,
   "id": "e0c4e49b-060d-44d3-b806-f2d4b2e14349",
   "metadata": {},
   "outputs": [],
   "source": [
    "chat_history = ChatMessageHistory()\n",
    "chain_with_memory = RunnableWithMessageHistory(\n",
    "    chain,\n",
    "    lambda session_id: chat_history,\n",
    "    input_messages_key='question',\n",
    "    history_messages_key='chat_history')"
   ]
  },
  {
   "cell_type": "code",
   "execution_count": 45,
   "id": "4632e8f4-74dd-4633-9f00-c5b219d641f5",
   "metadata": {},
   "outputs": [],
   "source": [
    "def chatbot():\n",
    "    session_id = \"user_session\"\n",
    "    print('안녕하세요. 저는 광운대학교 챗봇입니다. 광운대학교 졸업 요건에 대해서 궁금한 점을 작성하세요! (종료를 위해서는 quit를 입력해주세요)')\n",
    "    while True:\n",
    "        question = input('사용자 : ')\n",
    "        if question.lower()=='quit':\n",
    "            break\n",
    "        answer = chain_with_memory.invoke(\n",
    "            {'question':question},\n",
    "            {'configurable':{'session_id':session_id}}\n",
    "        )\n",
    "        print('챗봇 : ', answer)"
   ]
  },
  {
   "cell_type": "code",
   "execution_count": 46,
   "id": "39b664f1-5574-43c0-b0a5-199d451c583f",
   "metadata": {},
   "outputs": [
    {
     "name": "stdout",
     "output_type": "stream",
     "text": [
      "안녕하세요. 저는 광운대학교 챗봇입니다. 광운대학교 졸업 요건에 대해서 궁금한 점을 작성하세요! (종료를 위해서는 quit를 입력해주세요)\n"
     ]
    },
    {
     "name": "stdin",
     "output_type": "stream",
     "text": [
      "사용자 :  안녕하세요?\n"
     ]
    },
    {
     "name": "stdout",
     "output_type": "stream",
     "text": [
      "챗봇 :  안녕하세요! 무엇을 도와드릴까요? 졸업 요건이나 교과목 관련해서 궁금한 점이 있으시면 언제든지 질문해 주세요.\n"
     ]
    },
    {
     "name": "stdin",
     "output_type": "stream",
     "text": [
      "사용자 :  졸업하기 위해서는 몇학점을 채워야하나요?\n"
     ]
    },
    {
     "name": "stdout",
     "output_type": "stream",
     "text": [
      "챗봇 :  질문해주신 졸업 이수 학점에 대한 정보는 입학 연도와 전형에 따라 다릅니다. 예를 들어, 2016학년도에 신입학한 학생의 경우 공학계열 학과는 30학점을 이수해야 합니다. 만학도 전형, 외국인 전형, 특성화고를 졸업한 재직자 전형, 체육특기자, 편입생의 경우 교양 필수 이수가 면제되며, 교양 학점 30학점을 이수해야 합니다.\n",
      "\n",
      "입학 연도나 전형에 따라 구체적인 졸업 이수 학점이 다를 수 있으니, 본인의 상황에 맞는 정보를 확인해 보시기 바랍니다. 추가적인 질문이 있으면 언제든지 말씀해 주세요!\n"
     ]
    },
    {
     "name": "stdin",
     "output_type": "stream",
     "text": [
      "사용자 :  2022학년도 컴퓨터공학과로 입학했습니다. 자세한 이수학점 알려주세요\n"
     ]
    },
    {
     "name": "stdout",
     "output_type": "stream",
     "text": [
      "챗봇 :  2022학년도에 컴퓨터공학과로 입학하신 경우, 졸업을 위해 필요한 이수 학점은 다음과 같습니다:\n",
      "\n",
      "- **교양 학점**: 22학점\n",
      "- **주전공 학점(필수 포함)**: 60학점\n",
      "\n",
      "총 졸업 이수 학점은 133학점입니다. \n",
      "\n",
      "이 외에도 심화전공, 복수전공, 부전공을 선택하실 경우 추가적인 학점 이수가 필요할 수 있습니다. 본인의 학업 계획에 따라 필요한 학점을 잘 확인하시고 이수 계획을 세우시기 바랍니다. 추가적인 질문이 있으시면 언제든지 말씀해 주세요!\n"
     ]
    },
    {
     "name": "stdin",
     "output_type": "stream",
     "text": [
      "사용자 :  교양 22학점에 전공 60학점을 더하면 82학점 아닌가요?\n"
     ]
    },
    {
     "name": "stdout",
     "output_type": "stream",
     "text": [
      "챗봇 :  죄송합니다. 제가 잘못된 정보를 드렸습니다. 2022학년도에 컴퓨터공학과로 입학하신 경우, 졸업을 위해 필요한 총 이수 학점은 133학점입니다. \n",
      "\n",
      "교양과 전공 학점 외에도 일반 선택 과목 등을 포함하여 총 133학점을 이수해야 합니다. 교양과 전공 학점 외에 나머지 학점은 일반 선택 과목 등을 통해 채우실 수 있습니다. \n",
      "\n",
      "정확한 학점 이수 계획을 위해 학과 사무실이나 학사 관련 부서에 문의하시는 것도 좋은 방법입니다. 추가적인 질문이 있으시면 언제든지 말씀해 주세요!\n"
     ]
    },
    {
     "name": "stdin",
     "output_type": "stream",
     "text": [
      "사용자 :  quit\n"
     ]
    }
   ],
   "source": [
    "chatbot()"
   ]
  },
  {
   "cell_type": "code",
   "execution_count": null,
   "id": "b5c9100d-18d5-4311-92ad-fe3739b68920",
   "metadata": {},
   "outputs": [],
   "source": []
  }
 ],
 "metadata": {
  "kernelspec": {
   "display_name": "Python 3 (ipykernel)",
   "language": "python",
   "name": "python3"
  },
  "language_info": {
   "codemirror_mode": {
    "name": "ipython",
    "version": 3
   },
   "file_extension": ".py",
   "mimetype": "text/x-python",
   "name": "python",
   "nbconvert_exporter": "python",
   "pygments_lexer": "ipython3",
   "version": "3.11.13"
  }
 },
 "nbformat": 4,
 "nbformat_minor": 5
}
