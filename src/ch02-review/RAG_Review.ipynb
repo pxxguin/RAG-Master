{
 "cells": [
  {
   "cell_type": "code",
   "execution_count": 17,
   "id": "7f440773-1114-466e-a26f-f5a8a5bb586a",
   "metadata": {},
   "outputs": [],
   "source": [
    "# 1. 샘 올트먼과 빌게이츠가 어떤 사람인지 알고 싶어."
   ]
  },
  {
   "cell_type": "code",
   "execution_count": 20,
   "id": "520d01e0-93a4-4ec8-9cc6-e11f30a5c94b",
   "metadata": {},
   "outputs": [],
   "source": [
    "from langchain_openai import ChatOpenAI\n",
    "from langchain_core.output_parsers import StrOutputParser\n",
    "from langchain_core.prompts import ChatPromptTemplate"
   ]
  },
  {
   "cell_type": "code",
   "execution_count": 32,
   "id": "d5b42509-67ef-4f29-bf06-bf35dfe9eee4",
   "metadata": {},
   "outputs": [],
   "source": [
    "class explainHumanAI:\n",
    "    def __init__(self):\n",
    "        self.model = ChatOpenAI(model='gpt-4o-mini')\n",
    "        self.prompt = ChatPromptTemplate.from_messages(\n",
    "            [\n",
    "                ('system', '당신은 유명인사들에 대한 정보를 가지고 있는 전문가입니다. 사용자의 질문에 간단하게 답변해주세요.'),\n",
    "                ('user', '{Human}은 어떤 사람인가요?')\n",
    "            ]\n",
    "        )\n",
    "        self.parser = StrOutputParser()\n",
    "    def run(self, question):\n",
    "        chain = (\n",
    "            self.prompt\n",
    "            | self.model\n",
    "            | self.parser)\n",
    "        print(chain.invoke({'Human':question}))"
   ]
  },
  {
   "cell_type": "code",
   "execution_count": 35,
   "id": "16f2e30e-720c-47bc-bfee-bd4679c44ab6",
   "metadata": {},
   "outputs": [
    {
     "name": "stdout",
     "output_type": "stream",
     "text": [
      "빌 게이츠(Bill Gates)는 미국의 기업가, 프로그래머, 자선가로, 마이크로소프트(Microsoft)의 공동 창립자입니다. 1955년 10월 28일에 태어난 그는 1975년 마이크로소프트를 설립하여 컴퓨터 소프트웨어 산업의 혁신을 이끌었습니다. 게이츠는 세계에서 가장 부유한 사람 중 한 명으로 알려져 있으며, 2000년대 초반까지 마이크로소프트의 CEO로 활동했습니다. 이후 그는 자선 사업에 집중하며 빌 & 멜린다 게이츠 재단을 통해 글로벌 건강과 교육 문제 해결에 기여하고 있습니다.\n",
      "샘 올트먼(Sam Altman)은 미국의 기업가이자 투자자로, 기술 분야에서 잘 알려진 인물입니다. 그는 스타트업 인큐베이터인 Y Combinator의 CEO로서 유명하며, 여러 혁신적인 스타트업의 성장에 기여했습니다. 올트먼은 OpenAI의 CEO로도 활동하고 있으며, 인공지능 및 기술의 발전에 중점을 두고 다양한 프로젝트에 관여하고 있습니다.\n"
     ]
    }
   ],
   "source": [
    "explainHumanAI().run('빌게이츠')\n",
    "explainHumanAI().run('샘 올트먼')"
   ]
  },
  {
   "cell_type": "code",
   "execution_count": 37,
   "id": "c81bb89e-3bb1-4bc0-9362-db41efd9f257",
   "metadata": {},
   "outputs": [],
   "source": [
    "# Json 형태로 출력하고 싶어"
   ]
  },
  {
   "cell_type": "code",
   "execution_count": 42,
   "id": "1d9626d0-8d63-4c9f-abee-8465864e4420",
   "metadata": {},
   "outputs": [],
   "source": [
    "from langchain_core.output_parsers import JsonOutputParser\n",
    "from pydantic import BaseModel, Field"
   ]
  },
  {
   "cell_type": "code",
   "execution_count": 52,
   "id": "202221ed-2326-4595-bcee-e36dbc76a938",
   "metadata": {},
   "outputs": [],
   "source": [
    "class parserHuman(BaseModel):\n",
    "    organization: str = Field(description='인물에 소속을 작성해주세요.')\n",
    "    Work: str = Field(description='인물의 업적을 두개만 작성해주세요.')"
   ]
  },
  {
   "cell_type": "code",
   "execution_count": 53,
   "id": "3bbf9280-fd90-4aca-837f-f882d3ef9d1e",
   "metadata": {},
   "outputs": [],
   "source": [
    "class explainHumanJSON:\n",
    "    def __init__(self):\n",
    "        super().__init__()\n",
    "        self.model = ChatOpenAI(model='gpt-4o-mini')\n",
    "        self.parser = JsonOutputParser(pydantic_object=parserHuman)\n",
    "        self.prompt = ChatPromptTemplate.from_messages(\n",
    "            [\n",
    "                ('system', '당신은 유명인사들에 대한 정보를 가지고 있는 전문가입니다. 사용자의 질문에 간단하게 답변해주세요.'),\n",
    "                ('user', '#Format: {format_instruction}\\n\\n#Question: {question}')\n",
    "            ]\n",
    "        ).partial(format_instruction=self.parser.get_format_instructions())\n",
    "    def run(self, human):\n",
    "        chain = (self.prompt|\n",
    "                 self.model|\n",
    "                 self.parser)\n",
    "        print(chain.invoke({f'question':human}))"
   ]
  },
  {
   "cell_type": "code",
   "execution_count": 54,
   "id": "e4c3ef95-18e9-47b3-b525-9286ef76e68f",
   "metadata": {},
   "outputs": [
    {
     "name": "stdout",
     "output_type": "stream",
     "text": [
      "{'organization': 'Microsoft Corporation', 'Work': 'Windows 운영 체제, 자선 활동 및 기부'}\n"
     ]
    }
   ],
   "source": [
    "explainHumanJSON().run('빌게이츠')"
   ]
  },
  {
   "cell_type": "code",
   "execution_count": 55,
   "id": "749b874a-6070-4512-bdbb-04e1b865d6aa",
   "metadata": {},
   "outputs": [],
   "source": [
    "# 대한민국의 대학교들의 강점을 나타낼 수 있는 AI를 만들고 싶은데, Json으로 출력할것"
   ]
  },
  {
   "cell_type": "code",
   "execution_count": 67,
   "id": "5f6fd0f2-9b72-4781-9b60-a3a08c71298c",
   "metadata": {},
   "outputs": [],
   "source": [
    "class jsonUniversity(BaseModel):\n",
    "    location: str = Field(description='사용자가 질문한 대학교의 위치를 작성하세요.')\n",
    "    merit: str = Field(description='사용자가 질문한 대학교의 장점을 하나만 작성해주세요.')\n",
    "    \n",
    "class meritUniversity:\n",
    "    def __init__(self):\n",
    "        super().__init__()\n",
    "        self.model = ChatOpenAI(model='gpt-4o-mini',\n",
    "                                temperature=0.0)\n",
    "        self.parser = JsonOutputParser(pydantic_object=jsonUniversity)\n",
    "        self.prompt = ChatPromptTemplate.from_messages(\n",
    "            [\n",
    "                ('system', '당신은 대한민국 대학교들을 잘 알고있는 전문가입니다. 사용자의 질문에 답변해주세요.'),\n",
    "                ('user', '#Format: {prompt_format}\\n\\n#Question: {question}')\n",
    "            ]\n",
    "        ).partial(prompt_format=self.parser.get_format_instructions())\n",
    "    def run(self, school):\n",
    "        chain = (\n",
    "            self.prompt|\n",
    "            self.model|\n",
    "            self.parser)\n",
    "        print(chain.invoke({'question':school}))"
   ]
  },
  {
   "cell_type": "code",
   "execution_count": 68,
   "id": "bc83120d-e955-4868-b040-4d5ef769f03b",
   "metadata": {},
   "outputs": [
    {
     "name": "stdout",
     "output_type": "stream",
     "text": [
      "{'location': '서울특별시 관악구 관악로 1', 'merit': '국내 최고의 연구 및 교육 환경을 제공하는 대학교입니다.'}\n"
     ]
    }
   ],
   "source": [
    "meritUniversity().run('서울대학교')"
   ]
  }
 ],
 "metadata": {
  "kernelspec": {
   "display_name": "Python 3 (ipykernel)",
   "language": "python",
   "name": "python3"
  },
  "language_info": {
   "codemirror_mode": {
    "name": "ipython",
    "version": 3
   },
   "file_extension": ".py",
   "mimetype": "text/x-python",
   "name": "python",
   "nbconvert_exporter": "python",
   "pygments_lexer": "ipython3",
   "version": "3.11.13"
  }
 },
 "nbformat": 4,
 "nbformat_minor": 5
}
